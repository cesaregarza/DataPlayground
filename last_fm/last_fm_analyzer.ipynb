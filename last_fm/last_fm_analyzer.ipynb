{
 "metadata": {
  "language_info": {
   "codemirror_mode": {
    "name": "ipython",
    "version": 3
   },
   "file_extension": ".py",
   "mimetype": "text/x-python",
   "name": "python",
   "nbconvert_exporter": "python",
   "pygments_lexer": "ipython3",
   "version": "3.8.5-final"
  },
  "orig_nbformat": 2,
  "kernelspec": {
   "name": "python3",
   "display_name": "Python 3",
   "language": "python"
  }
 },
 "nbformat": 4,
 "nbformat_minor": 2,
 "cells": [
  {
   "cell_type": "code",
   "execution_count": 1,
   "metadata": {},
   "outputs": [],
   "source": [
    "import requests\n",
    "from last_fm_secrets import *\n",
    "import time\n",
    "import pandas as pd"
   ]
  },
  {
   "cell_type": "code",
   "execution_count": 2,
   "metadata": {},
   "outputs": [],
   "source": [
    "class Function_Dictionary_Class:\n",
    "    user_agent = \"Halcyon\"\n",
    "    api_key    = api_key\n",
    "    secret     = secret\n",
    "    api_root_url = \"http://ws.audioscrobbler.com/2.0\"\n",
    "    method       = \"user.getRecentTracks\"\n",
    "    user         = username\n",
    "    json         = \"json\"\n",
    "    root_key     = \"recenttracks\"\n",
    "    attributes   = \"@attr\"\n",
    "    tracks       = \"track\"\n",
    "    mb_id        = \"mbid\"\n",
    "    artist       = \"artist\"\n",
    "    name         = \"name\"\n",
    "    album        = \"album\"\n",
    "    date         = \"date\"\n",
    "    uts          = \"uts\"\n",
    "    text         = \"#text\"\n",
    "\n",
    "    class DataFrame_Columns_Class:\n",
    "        track_id    = \"track_id\"\n",
    "        artist_id   = \"artist_id\"\n",
    "        album_id    = \"album_id\"\n",
    "        track_name  = \"track_name\"\n",
    "        artist_name = \"artist_name\"\n",
    "        album_name  = \"album_name\"\n",
    "        date        = \"date\"\n",
    "    \n",
    "    def __init__(self):\n",
    "        self.df_columns = self.DataFrame_Columns_Class()\n",
    "\n",
    "func_dict = Function_Dictionary_Class()\n",
    "\n",
    "headers = {\n",
    "    \"user-agent\": func_dict.user_agent\n",
    "}"
   ]
  },
  {
   "cell_type": "code",
   "execution_count": 3,
   "metadata": {},
   "outputs": [],
   "source": [
    "def retrieve_page(user_name, page):\n",
    "    payload = {\n",
    "        \"api_key\": func_dict.api_key,\n",
    "        \"method\": func_dict.method,\n",
    "        \"format\": func_dict.json,\n",
    "        \"limit\": 200,\n",
    "        \"user\": user_name,\n",
    "        \"extended\": 1,\n",
    "        \"page\": page\n",
    "    }\n",
    "\n",
    "    r = requests.get(func_dict.api_root_url, headers=headers, params=payload)\n",
    "    retrieved_json = r.json()\n",
    "    attributes = retrieved_json[func_dict.root_key][func_dict.attributes]\n",
    "    if page > int(attributes['totalPages']):\n",
    "        raise ValueError(\"Exceeded total number of pages\")\n",
    "\n",
    "    return retrieved_json[func_dict.root_key][func_dict.tracks]\n",
    "\n",
    "def parse_page(page_data):\n",
    "    \n",
    "    temp_list = []\n",
    "\n",
    "    for entry in page_data:\n",
    "        temp_list.append({\n",
    "            func_dict.df_columns.track_name:    entry[func_dict.name],\n",
    "            func_dict.df_columns.track_id:      entry[func_dict.mb_id],\n",
    "            func_dict.df_columns.artist_name:   entry[func_dict.artist][func_dict.name],\n",
    "            func_dict.df_columns.artist_id:     entry[func_dict.artist][func_dict.mb_id],\n",
    "            func_dict.df_columns.album_name:    entry[func_dict.album][func_dict.text],\n",
    "            func_dict.df_columns.album_id:      entry[func_dict.album][func_dict.mb_id],\n",
    "            func_dict.df_columns.date:          entry[func_dict.date][func_dict.uts]\n",
    "        })\n",
    "    \n",
    "    return_df = pd.DataFrame(temp_list)\n",
    "    return_df[func_dict.df_columns.date] = pd.to_datetime(return_df[func_dict.df_columns.date], unit=\"s\")\n",
    "    return return_df"
   ]
  },
  {
   "cell_type": "code",
   "execution_count": 15,
   "metadata": {},
   "outputs": [],
   "source": [
    "def retrieve_all_data(user_name):\n",
    "\n",
    "    #Retrieve first page, just for attribute examination\n",
    "    payload = {\n",
    "        \"api_key\": func_dict.api_key,\n",
    "        \"method\": func_dict.method,\n",
    "        \"format\": func_dict.json,\n",
    "        \"limit\": 200,\n",
    "        \"user\": user_name,\n",
    "        \"extended\": 1,\n",
    "    }\n",
    "    r = requests.get(func_dict.api_root_url, headers=headers, params=payload)\n",
    "    retrieved_json = r.json()\n",
    "    attributes = retrieved_json[func_dict.root_key][func_dict.attributes]\n",
    "    total_pages = int(attributes['totalPages'])\n",
    "\n",
    "    list_of_dataframes = []\n",
    "    for i in range(total_pages):\n",
    "        print(f\"\\rPage {i + 1} of {total_pages}\", end=\"\")\n",
    "        while True:\n",
    "            try:\n",
    "                page_data = retrieve_page(user_name, i + 1)\n",
    "                break\n",
    "            except KeyError:\n",
    "                time.sleep(0.1)\n",
    "                continue\n",
    "\n",
    "        list_of_dataframes.append(parse_page(page_data))\n",
    "\n",
    "        time.sleep(0.1)\n",
    "    \n",
    "    return pd.concat(list_of_dataframes, ignore_index=True)"
   ]
  },
  {
   "cell_type": "code",
   "execution_count": 16,
   "metadata": {},
   "outputs": [
    {
     "output_type": "stream",
     "name": "stdout",
     "text": [
      "Page 642 of 642"
     ]
    }
   ],
   "source": [
    "df = retrieve_all_data(\"rawrspoon\")"
   ]
  },
  {
   "cell_type": "code",
   "execution_count": 17,
   "metadata": {},
   "outputs": [
    {
     "output_type": "execute_result",
     "data": {
      "text/plain": [
       "                           track_name                              track_id  \\\n",
       "0                          Can't Help  2e585c77-48e8-420d-9649-28c188e9fc0f   \n",
       "1                         Canned Heat  045ef838-e886-4155-ad57-116bda32b97b   \n",
       "2       Beach Bones (Feat. Ryan Ross)                                         \n",
       "3          Push Push (Lady Lightning)  63aea131-a5f2-41c3-b689-aad85f9c46ec   \n",
       "4                     Procrastinating  4f90aefc-acda-3807-8ba7-4bb829e1936e   \n",
       "...                               ...                                   ...   \n",
       "128343                  Cupid Shuffle  2907feb9-c3b0-4b03-94af-ba2b38e7ae93   \n",
       "128344                 Out of My Head  21195bf8-14f7-3601-8064-2026d46ffc28   \n",
       "128345                     Painkiller  039cd1bb-8fc9-3fcc-a902-0af24a1e05cc   \n",
       "128346                     The Anthem  17e96d04-f759-3125-865e-ec4b19f81ba8   \n",
       "128347               Bullets and Guns  93d721da-9773-4f55-b9df-8237abe6f8ab   \n",
       "\n",
       "                artist_name artist_id                              album_name  \\\n",
       "0                 Parachute                                        Can't Help   \n",
       "1                Jamiroquai                                       Synkronized   \n",
       "2                 More Amor                     Beach Bones (feat. Ryan Ross)   \n",
       "3               Bang Camaro                                       Bang Camaro   \n",
       "4              Stellar Kart            Life Is Good: The Best of Stellar Kart   \n",
       "...                     ...       ...                                     ...   \n",
       "128343                Cupid                                 Time For A Change   \n",
       "128344  Theory of a Deadman                                   The Truth Is...   \n",
       "128345         Judas Priest                      Judas Priest - The Essential   \n",
       "128346       Good Charlotte                                        The Anthem   \n",
       "128347       Them Terribles                            Rock, Paper, Terribles   \n",
       "\n",
       "                                    album_id                date  \n",
       "0       75fd3dcb-62e2-4a86-b479-c14903d5f57a 2020-12-17 00:55:08  \n",
       "1       2ab9c2ba-8026-4f80-ae12-56450b1165fb 2020-12-17 00:49:36  \n",
       "2                                            2020-12-17 00:46:10  \n",
       "3       2defe6da-a0d0-419d-83a7-1709e1f3fc62 2020-12-17 00:41:28  \n",
       "4                                            2020-12-17 00:32:43  \n",
       "...                                      ...                 ...  \n",
       "128343  4bbbe6a2-64a9-4550-8c1d-c9590591b4d7 2013-09-07 11:05:10  \n",
       "128344  4f1279aa-98af-43dd-9b90-8d0d3d00c12d 2013-09-07 11:02:49  \n",
       "128345                                       2013-09-07 10:56:31  \n",
       "128346  29b20ee4-d4df-40d6-98da-7c1d229ee1da 2013-09-07 10:53:36  \n",
       "128347  99b57020-1e36-4bb5-a0ca-2dfad73077d9 2013-09-07 10:51:10  \n",
       "\n",
       "[128348 rows x 7 columns]"
      ],
      "text/html": "<div>\n<style scoped>\n    .dataframe tbody tr th:only-of-type {\n        vertical-align: middle;\n    }\n\n    .dataframe tbody tr th {\n        vertical-align: top;\n    }\n\n    .dataframe thead th {\n        text-align: right;\n    }\n</style>\n<table border=\"1\" class=\"dataframe\">\n  <thead>\n    <tr style=\"text-align: right;\">\n      <th></th>\n      <th>track_name</th>\n      <th>track_id</th>\n      <th>artist_name</th>\n      <th>artist_id</th>\n      <th>album_name</th>\n      <th>album_id</th>\n      <th>date</th>\n    </tr>\n  </thead>\n  <tbody>\n    <tr>\n      <th>0</th>\n      <td>Can't Help</td>\n      <td>2e585c77-48e8-420d-9649-28c188e9fc0f</td>\n      <td>Parachute</td>\n      <td></td>\n      <td>Can't Help</td>\n      <td>75fd3dcb-62e2-4a86-b479-c14903d5f57a</td>\n      <td>2020-12-17 00:55:08</td>\n    </tr>\n    <tr>\n      <th>1</th>\n      <td>Canned Heat</td>\n      <td>045ef838-e886-4155-ad57-116bda32b97b</td>\n      <td>Jamiroquai</td>\n      <td></td>\n      <td>Synkronized</td>\n      <td>2ab9c2ba-8026-4f80-ae12-56450b1165fb</td>\n      <td>2020-12-17 00:49:36</td>\n    </tr>\n    <tr>\n      <th>2</th>\n      <td>Beach Bones (Feat. Ryan Ross)</td>\n      <td></td>\n      <td>More Amor</td>\n      <td></td>\n      <td>Beach Bones (feat. Ryan Ross)</td>\n      <td></td>\n      <td>2020-12-17 00:46:10</td>\n    </tr>\n    <tr>\n      <th>3</th>\n      <td>Push Push (Lady Lightning)</td>\n      <td>63aea131-a5f2-41c3-b689-aad85f9c46ec</td>\n      <td>Bang Camaro</td>\n      <td></td>\n      <td>Bang Camaro</td>\n      <td>2defe6da-a0d0-419d-83a7-1709e1f3fc62</td>\n      <td>2020-12-17 00:41:28</td>\n    </tr>\n    <tr>\n      <th>4</th>\n      <td>Procrastinating</td>\n      <td>4f90aefc-acda-3807-8ba7-4bb829e1936e</td>\n      <td>Stellar Kart</td>\n      <td></td>\n      <td>Life Is Good: The Best of Stellar Kart</td>\n      <td></td>\n      <td>2020-12-17 00:32:43</td>\n    </tr>\n    <tr>\n      <th>...</th>\n      <td>...</td>\n      <td>...</td>\n      <td>...</td>\n      <td>...</td>\n      <td>...</td>\n      <td>...</td>\n      <td>...</td>\n    </tr>\n    <tr>\n      <th>128343</th>\n      <td>Cupid Shuffle</td>\n      <td>2907feb9-c3b0-4b03-94af-ba2b38e7ae93</td>\n      <td>Cupid</td>\n      <td></td>\n      <td>Time For A Change</td>\n      <td>4bbbe6a2-64a9-4550-8c1d-c9590591b4d7</td>\n      <td>2013-09-07 11:05:10</td>\n    </tr>\n    <tr>\n      <th>128344</th>\n      <td>Out of My Head</td>\n      <td>21195bf8-14f7-3601-8064-2026d46ffc28</td>\n      <td>Theory of a Deadman</td>\n      <td></td>\n      <td>The Truth Is...</td>\n      <td>4f1279aa-98af-43dd-9b90-8d0d3d00c12d</td>\n      <td>2013-09-07 11:02:49</td>\n    </tr>\n    <tr>\n      <th>128345</th>\n      <td>Painkiller</td>\n      <td>039cd1bb-8fc9-3fcc-a902-0af24a1e05cc</td>\n      <td>Judas Priest</td>\n      <td></td>\n      <td>Judas Priest - The Essential</td>\n      <td></td>\n      <td>2013-09-07 10:56:31</td>\n    </tr>\n    <tr>\n      <th>128346</th>\n      <td>The Anthem</td>\n      <td>17e96d04-f759-3125-865e-ec4b19f81ba8</td>\n      <td>Good Charlotte</td>\n      <td></td>\n      <td>The Anthem</td>\n      <td>29b20ee4-d4df-40d6-98da-7c1d229ee1da</td>\n      <td>2013-09-07 10:53:36</td>\n    </tr>\n    <tr>\n      <th>128347</th>\n      <td>Bullets and Guns</td>\n      <td>93d721da-9773-4f55-b9df-8237abe6f8ab</td>\n      <td>Them Terribles</td>\n      <td></td>\n      <td>Rock, Paper, Terribles</td>\n      <td>99b57020-1e36-4bb5-a0ca-2dfad73077d9</td>\n      <td>2013-09-07 10:51:10</td>\n    </tr>\n  </tbody>\n</table>\n<p>128348 rows × 7 columns</p>\n</div>"
     },
     "metadata": {},
     "execution_count": 17
    }
   ],
   "source": [
    "df"
   ]
  },
  {
   "cell_type": "code",
   "execution_count": 23,
   "metadata": {},
   "outputs": [],
   "source": [
    "df.to_hdf(\"listener_df.h5\", key=\"df\", mode=\"w\")"
   ]
  },
  {
   "cell_type": "code",
   "execution_count": 24,
   "metadata": {},
   "outputs": [
    {
     "output_type": "execute_result",
     "data": {
      "text/plain": [
       "                           track_name                              track_id  \\\n",
       "0                          Can't Help  2e585c77-48e8-420d-9649-28c188e9fc0f   \n",
       "1                         Canned Heat  045ef838-e886-4155-ad57-116bda32b97b   \n",
       "2       Beach Bones (Feat. Ryan Ross)                                         \n",
       "3          Push Push (Lady Lightning)  63aea131-a5f2-41c3-b689-aad85f9c46ec   \n",
       "4                     Procrastinating  4f90aefc-acda-3807-8ba7-4bb829e1936e   \n",
       "...                               ...                                   ...   \n",
       "128343                  Cupid Shuffle  2907feb9-c3b0-4b03-94af-ba2b38e7ae93   \n",
       "128344                 Out of My Head  21195bf8-14f7-3601-8064-2026d46ffc28   \n",
       "128345                     Painkiller  039cd1bb-8fc9-3fcc-a902-0af24a1e05cc   \n",
       "128346                     The Anthem  17e96d04-f759-3125-865e-ec4b19f81ba8   \n",
       "128347               Bullets and Guns  93d721da-9773-4f55-b9df-8237abe6f8ab   \n",
       "\n",
       "                artist_name artist_id                              album_name  \\\n",
       "0                 Parachute                                        Can't Help   \n",
       "1                Jamiroquai                                       Synkronized   \n",
       "2                 More Amor                     Beach Bones (feat. Ryan Ross)   \n",
       "3               Bang Camaro                                       Bang Camaro   \n",
       "4              Stellar Kart            Life Is Good: The Best of Stellar Kart   \n",
       "...                     ...       ...                                     ...   \n",
       "128343                Cupid                                 Time For A Change   \n",
       "128344  Theory of a Deadman                                   The Truth Is...   \n",
       "128345         Judas Priest                      Judas Priest - The Essential   \n",
       "128346       Good Charlotte                                        The Anthem   \n",
       "128347       Them Terribles                            Rock, Paper, Terribles   \n",
       "\n",
       "                                    album_id                date  \n",
       "0       75fd3dcb-62e2-4a86-b479-c14903d5f57a 2020-12-17 00:55:08  \n",
       "1       2ab9c2ba-8026-4f80-ae12-56450b1165fb 2020-12-17 00:49:36  \n",
       "2                                            2020-12-17 00:46:10  \n",
       "3       2defe6da-a0d0-419d-83a7-1709e1f3fc62 2020-12-17 00:41:28  \n",
       "4                                            2020-12-17 00:32:43  \n",
       "...                                      ...                 ...  \n",
       "128343  4bbbe6a2-64a9-4550-8c1d-c9590591b4d7 2013-09-07 11:05:10  \n",
       "128344  4f1279aa-98af-43dd-9b90-8d0d3d00c12d 2013-09-07 11:02:49  \n",
       "128345                                       2013-09-07 10:56:31  \n",
       "128346  29b20ee4-d4df-40d6-98da-7c1d229ee1da 2013-09-07 10:53:36  \n",
       "128347  99b57020-1e36-4bb5-a0ca-2dfad73077d9 2013-09-07 10:51:10  \n",
       "\n",
       "[128348 rows x 7 columns]"
      ],
      "text/html": "<div>\n<style scoped>\n    .dataframe tbody tr th:only-of-type {\n        vertical-align: middle;\n    }\n\n    .dataframe tbody tr th {\n        vertical-align: top;\n    }\n\n    .dataframe thead th {\n        text-align: right;\n    }\n</style>\n<table border=\"1\" class=\"dataframe\">\n  <thead>\n    <tr style=\"text-align: right;\">\n      <th></th>\n      <th>track_name</th>\n      <th>track_id</th>\n      <th>artist_name</th>\n      <th>artist_id</th>\n      <th>album_name</th>\n      <th>album_id</th>\n      <th>date</th>\n    </tr>\n  </thead>\n  <tbody>\n    <tr>\n      <th>0</th>\n      <td>Can't Help</td>\n      <td>2e585c77-48e8-420d-9649-28c188e9fc0f</td>\n      <td>Parachute</td>\n      <td></td>\n      <td>Can't Help</td>\n      <td>75fd3dcb-62e2-4a86-b479-c14903d5f57a</td>\n      <td>2020-12-17 00:55:08</td>\n    </tr>\n    <tr>\n      <th>1</th>\n      <td>Canned Heat</td>\n      <td>045ef838-e886-4155-ad57-116bda32b97b</td>\n      <td>Jamiroquai</td>\n      <td></td>\n      <td>Synkronized</td>\n      <td>2ab9c2ba-8026-4f80-ae12-56450b1165fb</td>\n      <td>2020-12-17 00:49:36</td>\n    </tr>\n    <tr>\n      <th>2</th>\n      <td>Beach Bones (Feat. Ryan Ross)</td>\n      <td></td>\n      <td>More Amor</td>\n      <td></td>\n      <td>Beach Bones (feat. Ryan Ross)</td>\n      <td></td>\n      <td>2020-12-17 00:46:10</td>\n    </tr>\n    <tr>\n      <th>3</th>\n      <td>Push Push (Lady Lightning)</td>\n      <td>63aea131-a5f2-41c3-b689-aad85f9c46ec</td>\n      <td>Bang Camaro</td>\n      <td></td>\n      <td>Bang Camaro</td>\n      <td>2defe6da-a0d0-419d-83a7-1709e1f3fc62</td>\n      <td>2020-12-17 00:41:28</td>\n    </tr>\n    <tr>\n      <th>4</th>\n      <td>Procrastinating</td>\n      <td>4f90aefc-acda-3807-8ba7-4bb829e1936e</td>\n      <td>Stellar Kart</td>\n      <td></td>\n      <td>Life Is Good: The Best of Stellar Kart</td>\n      <td></td>\n      <td>2020-12-17 00:32:43</td>\n    </tr>\n    <tr>\n      <th>...</th>\n      <td>...</td>\n      <td>...</td>\n      <td>...</td>\n      <td>...</td>\n      <td>...</td>\n      <td>...</td>\n      <td>...</td>\n    </tr>\n    <tr>\n      <th>128343</th>\n      <td>Cupid Shuffle</td>\n      <td>2907feb9-c3b0-4b03-94af-ba2b38e7ae93</td>\n      <td>Cupid</td>\n      <td></td>\n      <td>Time For A Change</td>\n      <td>4bbbe6a2-64a9-4550-8c1d-c9590591b4d7</td>\n      <td>2013-09-07 11:05:10</td>\n    </tr>\n    <tr>\n      <th>128344</th>\n      <td>Out of My Head</td>\n      <td>21195bf8-14f7-3601-8064-2026d46ffc28</td>\n      <td>Theory of a Deadman</td>\n      <td></td>\n      <td>The Truth Is...</td>\n      <td>4f1279aa-98af-43dd-9b90-8d0d3d00c12d</td>\n      <td>2013-09-07 11:02:49</td>\n    </tr>\n    <tr>\n      <th>128345</th>\n      <td>Painkiller</td>\n      <td>039cd1bb-8fc9-3fcc-a902-0af24a1e05cc</td>\n      <td>Judas Priest</td>\n      <td></td>\n      <td>Judas Priest - The Essential</td>\n      <td></td>\n      <td>2013-09-07 10:56:31</td>\n    </tr>\n    <tr>\n      <th>128346</th>\n      <td>The Anthem</td>\n      <td>17e96d04-f759-3125-865e-ec4b19f81ba8</td>\n      <td>Good Charlotte</td>\n      <td></td>\n      <td>The Anthem</td>\n      <td>29b20ee4-d4df-40d6-98da-7c1d229ee1da</td>\n      <td>2013-09-07 10:53:36</td>\n    </tr>\n    <tr>\n      <th>128347</th>\n      <td>Bullets and Guns</td>\n      <td>93d721da-9773-4f55-b9df-8237abe6f8ab</td>\n      <td>Them Terribles</td>\n      <td></td>\n      <td>Rock, Paper, Terribles</td>\n      <td>99b57020-1e36-4bb5-a0ca-2dfad73077d9</td>\n      <td>2013-09-07 10:51:10</td>\n    </tr>\n  </tbody>\n</table>\n<p>128348 rows × 7 columns</p>\n</div>"
     },
     "metadata": {},
     "execution_count": 24
    }
   ],
   "source": [
    "pd.read_hdf(\"listener_df.h5\", key=\"df\")"
   ]
  },
  {
   "cell_type": "code",
   "execution_count": null,
   "metadata": {},
   "outputs": [],
   "source": []
  }
 ]
}