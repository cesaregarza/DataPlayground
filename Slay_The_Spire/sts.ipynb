{
 "metadata": {
  "language_info": {
   "codemirror_mode": {
    "name": "ipython",
    "version": 3
   },
   "file_extension": ".py",
   "mimetype": "text/x-python",
   "name": "python",
   "nbconvert_exporter": "python",
   "pygments_lexer": "ipython3",
   "version": "3.8.5-final"
  },
  "orig_nbformat": 2,
  "kernelspec": {
   "name": "python3",
   "display_name": "Python 3",
   "language": "python"
  }
 },
 "nbformat": 4,
 "nbformat_minor": 2,
 "cells": [
  {
   "cell_type": "code",
   "execution_count": 6,
   "metadata": {},
   "outputs": [],
   "source": [
    "import os\n",
    "import pandas as pd\n",
    "import seaborn as sns\n",
    "import gzip\n",
    "import json"
   ]
  },
  {
   "cell_type": "code",
   "execution_count": 23,
   "metadata": {},
   "outputs": [],
   "source": [
    "path = \"F:\\\\Dev\\\\DataPlayground\\\\Slay_The_Spire\\\\Monthly_2020_11\\\\2020-11-01-00-07#1067.json.gz\"\n",
    "with gzip.open(path, \"r\") as f:\n",
    "    data = f.read()\n",
    "    xyz = json.loads(data.decode('utf-8'))"
   ]
  },
  {
   "cell_type": "code",
   "execution_count": 17,
   "metadata": {},
   "outputs": [],
   "source": [
    "base_path = \"F:\\\\Dev\\\\DataPlayground\\\\Slay_The_Spire\\\\Monthly_2020_11\\\\\"\n",
    "list_of_paths = os.listdir(base_path)"
   ]
  },
  {
   "cell_type": "code",
   "execution_count": 25,
   "metadata": {},
   "outputs": [
    {
     "output_type": "execute_result",
     "data": {
      "text/plain": [
       "                                      gold_per_floor  floor_reached  playtime  \\\n",
       "0  [114, 127, 127, 127, 145, 177, 177, 193, 193, ...             50      3610   \n",
       "\n",
       "                               items_purged  score  \\\n",
       "0  [Strike_R, Strike_R, Defend_R, Defend_R]    531   \n",
       "\n",
       "                                play_id      local_time  is_ascension_mode  \\\n",
       "0  251eb1e0-5bfe-4c74-a86d-2925b198cd9c  20201101005734              False   \n",
       "\n",
       "                                    campfire_choices            neow_cost  \\\n",
       "0  [{'data': 'Anger', 'floor': 7, 'key': 'SMITH'}...  TEN_PERCENT_HP_LOSS   \n",
       "\n",
       "   ...  player_experience                                    relics_obtained  \\\n",
       "0  ...               3232  [{'floor': 6, 'key': 'Ginger'}, {'floor': 9, '...   \n",
       "\n",
       "                                       event_choices is_beta  \\\n",
       "0  [{'damage_healed': 0, 'gold_gain': 0, 'player_...   False   \n",
       "\n",
       "                                         boss_relics items_purged_floors  \\\n",
       "0  [{'not_picked': ['Fusion Hammer', 'Black Star'...    [12, 24, 30, 39]   \n",
       "\n",
       "  is_endless  potions_floor_spawned     killed_by ascension_level  \n",
       "0      False  [1, 5, 8, 18, 19, 38]  Awakened One               0  \n",
       "\n",
       "[1 rows x 49 columns]"
      ],
      "text/html": "<div>\n<style scoped>\n    .dataframe tbody tr th:only-of-type {\n        vertical-align: middle;\n    }\n\n    .dataframe tbody tr th {\n        vertical-align: top;\n    }\n\n    .dataframe thead th {\n        text-align: right;\n    }\n</style>\n<table border=\"1\" class=\"dataframe\">\n  <thead>\n    <tr style=\"text-align: right;\">\n      <th></th>\n      <th>gold_per_floor</th>\n      <th>floor_reached</th>\n      <th>playtime</th>\n      <th>items_purged</th>\n      <th>score</th>\n      <th>play_id</th>\n      <th>local_time</th>\n      <th>is_ascension_mode</th>\n      <th>campfire_choices</th>\n      <th>neow_cost</th>\n      <th>...</th>\n      <th>player_experience</th>\n      <th>relics_obtained</th>\n      <th>event_choices</th>\n      <th>is_beta</th>\n      <th>boss_relics</th>\n      <th>items_purged_floors</th>\n      <th>is_endless</th>\n      <th>potions_floor_spawned</th>\n      <th>killed_by</th>\n      <th>ascension_level</th>\n    </tr>\n  </thead>\n  <tbody>\n    <tr>\n      <th>0</th>\n      <td>[114, 127, 127, 127, 145, 177, 177, 193, 193, ...</td>\n      <td>50</td>\n      <td>3610</td>\n      <td>[Strike_R, Strike_R, Defend_R, Defend_R]</td>\n      <td>531</td>\n      <td>251eb1e0-5bfe-4c74-a86d-2925b198cd9c</td>\n      <td>20201101005734</td>\n      <td>False</td>\n      <td>[{'data': 'Anger', 'floor': 7, 'key': 'SMITH'}...</td>\n      <td>TEN_PERCENT_HP_LOSS</td>\n      <td>...</td>\n      <td>3232</td>\n      <td>[{'floor': 6, 'key': 'Ginger'}, {'floor': 9, '...</td>\n      <td>[{'damage_healed': 0, 'gold_gain': 0, 'player_...</td>\n      <td>False</td>\n      <td>[{'not_picked': ['Fusion Hammer', 'Black Star'...</td>\n      <td>[12, 24, 30, 39]</td>\n      <td>False</td>\n      <td>[1, 5, 8, 18, 19, 38]</td>\n      <td>Awakened One</td>\n      <td>0</td>\n    </tr>\n  </tbody>\n</table>\n<p>1 rows × 49 columns</p>\n</div>"
     },
     "metadata": {},
     "execution_count": 25
    }
   ],
   "source": [
    "pd.json_normalize(xyz[0]['event'])"
   ]
  },
  {
   "cell_type": "code",
   "execution_count": null,
   "metadata": {},
   "outputs": [],
   "source": []
  }
 ]
}