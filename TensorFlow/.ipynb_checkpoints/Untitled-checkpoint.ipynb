{
 "cells": [
  {
   "cell_type": "code",
   "execution_count": 1,
   "metadata": {},
   "outputs": [],
   "source": [
    "import tensorflow as tf\n",
    "import numpy as np\n",
    "import csv\n",
    "import functools\n",
    "import pandas as pd"
   ]
  },
  {
   "cell_type": "code",
   "execution_count": 2,
   "metadata": {},
   "outputs": [],
   "source": [
    "test_data_path = \"testdata_20.csv\"\n",
    "train_data_path = \"traindata_80.csv\""
   ]
  },
  {
   "cell_type": "code",
   "execution_count": 3,
   "metadata": {},
   "outputs": [],
   "source": [
    "LABEL_COLUMN = 'move'\n",
    "LABELS = [0, 1, 2, 3]"
   ]
  },
  {
   "cell_type": "code",
   "execution_count": 4,
   "metadata": {},
   "outputs": [],
   "source": [
    "def get_dataset(file_path, **kwargs):\n",
    "    dataset = tf.data.experimental.make_csv_dataset(\n",
    "        file_path,\n",
    "        batch_size = 5,\n",
    "        label_name = LABEL_COLUMN,\n",
    "        num_epochs = 1,\n",
    "        ignore_errors = True,\n",
    "        **kwargs)\n",
    "    return dataset"
   ]
  },
  {
   "cell_type": "code",
   "execution_count": 10,
   "metadata": {},
   "outputs": [],
   "source": [
    "raw_train_data = get_dataset(train_data_path)\n",
    "raw_test_data = get_dataset(test_data_path)"
   ]
  },
  {
   "cell_type": "code",
   "execution_count": 12,
   "metadata": {},
   "outputs": [
    {
     "ename": "AttributeError",
     "evalue": "module 'tensorflow' has no attribute 'get_tensors'",
     "output_type": "error",
     "traceback": [
      "\u001b[1;31m---------------------------------------------------------------------------\u001b[0m",
      "\u001b[1;31mAttributeError\u001b[0m                            Traceback (most recent call last)",
      "\u001b[1;32m<ipython-input-12-115dc7f39616>\u001b[0m in \u001b[0;36m<module>\u001b[1;34m\u001b[0m\n\u001b[1;32m----> 1\u001b[1;33m \u001b[0mtf\u001b[0m\u001b[1;33m.\u001b[0m\u001b[0mget_tensors\u001b[0m\u001b[1;33m(\u001b[0m\u001b[1;33m)\u001b[0m\u001b[1;33m\u001b[0m\u001b[1;33m\u001b[0m\u001b[0m\n\u001b[0m",
      "\u001b[1;31mAttributeError\u001b[0m: module 'tensorflow' has no attribute 'get_tensors'"
     ]
    }
   ],
   "source": [
    "tf.get_tensors()"
   ]
  },
  {
   "cell_type": "code",
   "execution_count": 6,
   "metadata": {},
   "outputs": [],
   "source": [
    "def show_batch(dataset):\n",
    "    for batch, label in dataset.take(1):\n",
    "        for key, value in batch.items():\n",
    "            print(\"{:20s}: {}\".format(key, value.numpy()))"
   ]
  },
  {
   "cell_type": "code",
   "execution_count": 14,
   "metadata": {},
   "outputs": [
    {
     "name": "stdout",
     "output_type": "stream",
     "text": [
      "1                   : [0.06666667 0.06666667 0.06666667 0.8666667  0.33333334]\n",
      "2                   : [0.13333334 0.46666667 1.         0.93333334 0.46666667]\n",
      "3                   : [0.2        0.73333335 0.4        0.33333334 0.53333336]\n",
      "4                   : [0.26666668 0.2        0.93333334 0.         0.73333335]\n",
      "5                   : [0.33333334 1.         0.46666667 0.73333335 0.6       ]\n",
      "6                   : [0.4        0.         0.53333336 0.8        0.2       ]\n",
      "7                   : [0.46666667 0.8666667  0.         0.26666668 0.26666668]\n",
      "8                   : [0.53333336 0.6        0.8        0.13333334 0.6666667 ]\n",
      "9                   : [0.6       0.6666667 0.2       0.4       0.4      ]\n",
      "10                  : [0.6666667  0.8        0.33333334 1.         0.13333334]\n",
      "11                  : [0.73333335 0.4        0.8666667  0.06666667 0.        ]\n",
      "12                  : [0.8        0.33333334 0.13333334 0.53333336 0.06666667]\n",
      "13                  : [0.8666667  0.93333334 0.6        0.2        0.8666667 ]\n",
      "14                  : [0.93333334 0.53333336 0.26666668 0.6666667  0.93333334]\n",
      "15                  : [0.         0.26666668 0.6666667  0.6        1.        ]\n",
      "0                   : [1.         0.13333334 0.73333335 0.46666667 0.8       ]\n"
     ]
    }
   ],
   "source": [
    "show_batch(raw_test_data)"
   ]
  },
  {
   "cell_type": "code",
   "execution_count": 18,
   "metadata": {},
   "outputs": [
    {
     "name": "stdout",
     "output_type": "stream",
     "text": [
      "1                   : [0.33333334 0.26666668 0.33333334 0.6666667  0.06666667]\n",
      "2                   : [0.06666667 0.6666667  0.06666667 0.26666668 0.2       ]\n",
      "3                   : [0.2        0.46666667 0.13333334 0.53333336 0.26666668]\n",
      "4                   : [0.26666668 0.4        0.2        0.33333334 0.53333336]\n",
      "5                   : [0.6        0.06666667 0.6        0.13333334 0.33333334]\n",
      "6                   : [0.13333334 0.8        0.46666667 0.2        0.46666667]\n",
      "7                   : [0.46666667 0.8666667  0.26666668 0.93333334 0.8       ]\n",
      "8                   : [0.53333336 0.13333334 0.8        0.06666667 1.        ]\n",
      "9                   : [0.4        0.33333334 0.4        0.         0.6       ]\n",
      "10                  : [0.6666667  0.6        0.73333335 0.4        0.13333334]\n",
      "11                  : [0.         1.         0.53333336 0.73333335 0.73333335]\n",
      "12                  : [0.73333335 0.53333336 0.         0.8        0.        ]\n",
      "13                  : [0.8666667  0.93333334 0.8666667  0.6        0.8666667 ]\n",
      "14                  : [0.93333334 0.         0.6666667  0.8666667  0.4       ]\n",
      "15                  : [1.         0.2        0.93333334 1.         0.6666667 ]\n",
      "0                   : [0.8        0.73333335 1.         0.46666667 0.93333334]\n"
     ]
    }
   ],
   "source": [
    "CSV_COLUMNS=['1','2','3','4','5','6','7','8','9','10','11','12','13','14','15','0','move']\n",
    "temp_dataset = get_dataset(train_data_path, column_names=CSV_COLUMNS)\n",
    "show_batch(temp_dataset)"
   ]
  },
  {
   "cell_type": "code",
   "execution_count": 19,
   "metadata": {},
   "outputs": [],
   "source": [
    "example_batch, labels_batch = next(iter(temp_dataset))"
   ]
  },
  {
   "cell_type": "code",
   "execution_count": 20,
   "metadata": {},
   "outputs": [],
   "source": [
    "def pack(features, label):\n",
    "    return tf.stack(list(features.values()), axis=-1), label"
   ]
  },
  {
   "cell_type": "code",
   "execution_count": 21,
   "metadata": {},
   "outputs": [
    {
     "name": "stdout",
     "output_type": "stream",
     "text": [
      "[[0.06666667 0.2        0.26666668 0.46666667 0.8666667  0.33333334\n",
      "  0.13333334 0.53333336 0.6666667  0.         0.4        1.\n",
      "  0.73333335 0.6        0.93333334 0.8       ]\n",
      " [0.06666667 0.13333334 0.2        0.26666668 0.4        0.\n",
      "  0.46666667 0.53333336 0.33333334 0.6        0.6666667  0.73333335\n",
      "  0.8666667  0.93333334 1.         0.8       ]\n",
      " [0.73333335 0.         0.8        0.26666668 0.4        0.06666667\n",
      "  0.6666667  0.6        0.93333334 0.53333336 0.8666667  0.33333334\n",
      "  0.2        0.46666667 1.         0.13333334]\n",
      " [0.13333334 0.73333335 0.33333334 0.46666667 0.06666667 0.8\n",
      "  0.26666668 0.53333336 0.         0.2        0.4        1.\n",
      "  0.6        0.8666667  0.6666667  0.93333334]\n",
      " [0.6        0.33333334 0.8        0.73333335 0.4        0.53333336\n",
      "  0.26666668 0.         0.46666667 0.13333334 0.2        0.93333334\n",
      "  1.         0.06666667 0.6666667  0.8666667 ]]\n",
      "\n",
      "[1 1 0 0 2]\n"
     ]
    }
   ],
   "source": [
    "packed_dataset = temp_dataset.map(pack)\n",
    "for features, labels in packed_dataset.take(1):\n",
    "    print(features.numpy())\n",
    "    print()\n",
    "    print(labels.numpy())"
   ]
  },
  {
   "cell_type": "code",
   "execution_count": 23,
   "metadata": {},
   "outputs": [],
   "source": [
    "class PackNumericFeatures(object):\n",
    "  def __init__(self, names):\n",
    "    self.names = names\n",
    "\n",
    "  def __call__(self, features, labels):\n",
    "    numeric_freatures = [features.pop(name) for name in self.names]\n",
    "    numeric_features = [tf.cast(feat, tf.float32) for feat in numeric_freatures]\n",
    "    numeric_features = tf.stack(numeric_features, axis=-1)\n",
    "    features['numeric'] = numeric_features\n",
    "\n",
    "    return features, labels"
   ]
  },
  {
   "cell_type": "code",
   "execution_count": 24,
   "metadata": {},
   "outputs": [],
   "source": [
    "NUMERIC_FEATURES = ['1','2','3','4','5','6','7','8','9','10','11','12','13','14','15','0']\n",
    "\n",
    "packed_train_data = raw_train_data.map(PackNumericFeatures(NUMERIC_FEATURES))\n",
    "packed_test_data = raw_test_data.map(PackNumericFeatures(NUMERIC_FEATURES))"
   ]
  },
  {
   "cell_type": "code",
   "execution_count": 25,
   "metadata": {},
   "outputs": [
    {
     "name": "stdout",
     "output_type": "stream",
     "text": [
      "numeric             : [[0.33333334 0.6666667  0.06666667 0.6        0.73333335 0.\n",
      "  0.93333334 0.13333334 0.46666667 0.4        0.53333336 0.8\n",
      "  1.         0.2        0.26666668 0.8666667 ]\n",
      " [0.06666667 0.13333334 0.2        0.26666668 0.33333334 0.\n",
      "  0.4        0.46666667 0.6        0.6666667  0.73333335 0.53333336\n",
      "  0.8666667  0.93333334 1.         0.8       ]\n",
      " [0.46666667 0.2        0.06666667 0.33333334 0.13333334 0.53333336\n",
      "  0.6666667  0.         0.6        0.4        0.8        0.26666668\n",
      "  0.8666667  0.93333334 0.73333335 1.        ]\n",
      " [0.4        0.13333334 0.26666668 0.73333335 0.06666667 0.33333334\n",
      "  0.6666667  0.2        0.6        1.         0.8666667  0.46666667\n",
      "  0.93333334 0.         0.53333336 0.8       ]\n",
      " [0.06666667 0.4        0.53333336 0.13333334 0.         0.2\n",
      "  0.46666667 0.26666668 0.33333334 0.93333334 0.6666667  0.8\n",
      "  0.6        0.8666667  0.73333335 1.        ]]\n"
     ]
    }
   ],
   "source": [
    "show_batch(packed_train_data)"
   ]
  },
  {
   "cell_type": "code",
   "execution_count": 26,
   "metadata": {},
   "outputs": [],
   "source": [
    "example_batch, labels_batch = next(iter(packed_train_data))"
   ]
  },
  {
   "cell_type": "code",
   "execution_count": 27,
   "metadata": {},
   "outputs": [
    {
     "data": {
      "text/html": [
       "<div>\n",
       "<style scoped>\n",
       "    .dataframe tbody tr th:only-of-type {\n",
       "        vertical-align: middle;\n",
       "    }\n",
       "\n",
       "    .dataframe tbody tr th {\n",
       "        vertical-align: top;\n",
       "    }\n",
       "\n",
       "    .dataframe thead th {\n",
       "        text-align: right;\n",
       "    }\n",
       "</style>\n",
       "<table border=\"1\" class=\"dataframe\">\n",
       "  <thead>\n",
       "    <tr style=\"text-align: right;\">\n",
       "      <th></th>\n",
       "      <th>1</th>\n",
       "      <th>2</th>\n",
       "      <th>3</th>\n",
       "      <th>4</th>\n",
       "      <th>5</th>\n",
       "      <th>6</th>\n",
       "      <th>7</th>\n",
       "      <th>8</th>\n",
       "      <th>9</th>\n",
       "      <th>10</th>\n",
       "      <th>11</th>\n",
       "      <th>12</th>\n",
       "      <th>13</th>\n",
       "      <th>14</th>\n",
       "      <th>15</th>\n",
       "      <th>0</th>\n",
       "    </tr>\n",
       "  </thead>\n",
       "  <tbody>\n",
       "    <tr>\n",
       "      <td>count</td>\n",
       "      <td>14996.000000</td>\n",
       "      <td>14996.000000</td>\n",
       "      <td>14996.000000</td>\n",
       "      <td>14996.000000</td>\n",
       "      <td>14996.000000</td>\n",
       "      <td>14996.000000</td>\n",
       "      <td>14996.000000</td>\n",
       "      <td>14996.000000</td>\n",
       "      <td>14996.000000</td>\n",
       "      <td>14996.000000</td>\n",
       "      <td>14996.000000</td>\n",
       "      <td>14996.000000</td>\n",
       "      <td>14996.000000</td>\n",
       "      <td>14996.000000</td>\n",
       "      <td>14996.000000</td>\n",
       "      <td>14996.000000</td>\n",
       "    </tr>\n",
       "    <tr>\n",
       "      <td>mean</td>\n",
       "      <td>0.285116</td>\n",
       "      <td>0.320597</td>\n",
       "      <td>0.353121</td>\n",
       "      <td>0.374126</td>\n",
       "      <td>0.406388</td>\n",
       "      <td>0.423464</td>\n",
       "      <td>0.432982</td>\n",
       "      <td>0.470481</td>\n",
       "      <td>0.528790</td>\n",
       "      <td>0.532213</td>\n",
       "      <td>0.544110</td>\n",
       "      <td>0.570290</td>\n",
       "      <td>0.684125</td>\n",
       "      <td>0.658673</td>\n",
       "      <td>0.681648</td>\n",
       "      <td>0.733876</td>\n",
       "    </tr>\n",
       "    <tr>\n",
       "      <td>std</td>\n",
       "      <td>0.268076</td>\n",
       "      <td>0.265926</td>\n",
       "      <td>0.256098</td>\n",
       "      <td>0.231942</td>\n",
       "      <td>0.276902</td>\n",
       "      <td>0.283155</td>\n",
       "      <td>0.277411</td>\n",
       "      <td>0.254121</td>\n",
       "      <td>0.273233</td>\n",
       "      <td>0.302539</td>\n",
       "      <td>0.301554</td>\n",
       "      <td>0.281705</td>\n",
       "      <td>0.261505</td>\n",
       "      <td>0.297720</td>\n",
       "      <td>0.299037</td>\n",
       "      <td>0.276821</td>\n",
       "    </tr>\n",
       "    <tr>\n",
       "      <td>min</td>\n",
       "      <td>0.000000</td>\n",
       "      <td>0.000000</td>\n",
       "      <td>0.000000</td>\n",
       "      <td>0.000000</td>\n",
       "      <td>0.000000</td>\n",
       "      <td>0.000000</td>\n",
       "      <td>0.000000</td>\n",
       "      <td>0.000000</td>\n",
       "      <td>0.000000</td>\n",
       "      <td>0.000000</td>\n",
       "      <td>0.000000</td>\n",
       "      <td>0.000000</td>\n",
       "      <td>0.000000</td>\n",
       "      <td>0.000000</td>\n",
       "      <td>0.000000</td>\n",
       "      <td>0.000000</td>\n",
       "    </tr>\n",
       "    <tr>\n",
       "      <td>25%</td>\n",
       "      <td>0.066667</td>\n",
       "      <td>0.133333</td>\n",
       "      <td>0.200000</td>\n",
       "      <td>0.266667</td>\n",
       "      <td>0.200000</td>\n",
       "      <td>0.200000</td>\n",
       "      <td>0.200000</td>\n",
       "      <td>0.266667</td>\n",
       "      <td>0.333333</td>\n",
       "      <td>0.333333</td>\n",
       "      <td>0.333333</td>\n",
       "      <td>0.400000</td>\n",
       "      <td>0.600000</td>\n",
       "      <td>0.466667</td>\n",
       "      <td>0.466667</td>\n",
       "      <td>0.600000</td>\n",
       "    </tr>\n",
       "    <tr>\n",
       "      <td>50%</td>\n",
       "      <td>0.133333</td>\n",
       "      <td>0.200000</td>\n",
       "      <td>0.266667</td>\n",
       "      <td>0.266667</td>\n",
       "      <td>0.333333</td>\n",
       "      <td>0.400000</td>\n",
       "      <td>0.466667</td>\n",
       "      <td>0.533333</td>\n",
       "      <td>0.600000</td>\n",
       "      <td>0.600000</td>\n",
       "      <td>0.600000</td>\n",
       "      <td>0.600000</td>\n",
       "      <td>0.866667</td>\n",
       "      <td>0.733333</td>\n",
       "      <td>0.733333</td>\n",
       "      <td>0.800000</td>\n",
       "    </tr>\n",
       "    <tr>\n",
       "      <td>75%</td>\n",
       "      <td>0.466667</td>\n",
       "      <td>0.466667</td>\n",
       "      <td>0.533333</td>\n",
       "      <td>0.533333</td>\n",
       "      <td>0.600000</td>\n",
       "      <td>0.666667</td>\n",
       "      <td>0.600000</td>\n",
       "      <td>0.600000</td>\n",
       "      <td>0.666667</td>\n",
       "      <td>0.733333</td>\n",
       "      <td>0.733333</td>\n",
       "      <td>0.800000</td>\n",
       "      <td>0.866667</td>\n",
       "      <td>0.933333</td>\n",
       "      <td>0.933333</td>\n",
       "      <td>1.000000</td>\n",
       "    </tr>\n",
       "    <tr>\n",
       "      <td>max</td>\n",
       "      <td>1.000000</td>\n",
       "      <td>1.000000</td>\n",
       "      <td>1.000000</td>\n",
       "      <td>1.000000</td>\n",
       "      <td>1.000000</td>\n",
       "      <td>1.000000</td>\n",
       "      <td>1.000000</td>\n",
       "      <td>1.000000</td>\n",
       "      <td>1.000000</td>\n",
       "      <td>1.000000</td>\n",
       "      <td>1.000000</td>\n",
       "      <td>1.000000</td>\n",
       "      <td>1.000000</td>\n",
       "      <td>1.000000</td>\n",
       "      <td>1.000000</td>\n",
       "      <td>1.000000</td>\n",
       "    </tr>\n",
       "  </tbody>\n",
       "</table>\n",
       "</div>"
      ],
      "text/plain": [
       "                  1             2             3             4             5  \\\n",
       "count  14996.000000  14996.000000  14996.000000  14996.000000  14996.000000   \n",
       "mean       0.285116      0.320597      0.353121      0.374126      0.406388   \n",
       "std        0.268076      0.265926      0.256098      0.231942      0.276902   \n",
       "min        0.000000      0.000000      0.000000      0.000000      0.000000   \n",
       "25%        0.066667      0.133333      0.200000      0.266667      0.200000   \n",
       "50%        0.133333      0.200000      0.266667      0.266667      0.333333   \n",
       "75%        0.466667      0.466667      0.533333      0.533333      0.600000   \n",
       "max        1.000000      1.000000      1.000000      1.000000      1.000000   \n",
       "\n",
       "                  6             7             8             9            10  \\\n",
       "count  14996.000000  14996.000000  14996.000000  14996.000000  14996.000000   \n",
       "mean       0.423464      0.432982      0.470481      0.528790      0.532213   \n",
       "std        0.283155      0.277411      0.254121      0.273233      0.302539   \n",
       "min        0.000000      0.000000      0.000000      0.000000      0.000000   \n",
       "25%        0.200000      0.200000      0.266667      0.333333      0.333333   \n",
       "50%        0.400000      0.466667      0.533333      0.600000      0.600000   \n",
       "75%        0.666667      0.600000      0.600000      0.666667      0.733333   \n",
       "max        1.000000      1.000000      1.000000      1.000000      1.000000   \n",
       "\n",
       "                 11            12            13            14            15  \\\n",
       "count  14996.000000  14996.000000  14996.000000  14996.000000  14996.000000   \n",
       "mean       0.544110      0.570290      0.684125      0.658673      0.681648   \n",
       "std        0.301554      0.281705      0.261505      0.297720      0.299037   \n",
       "min        0.000000      0.000000      0.000000      0.000000      0.000000   \n",
       "25%        0.333333      0.400000      0.600000      0.466667      0.466667   \n",
       "50%        0.600000      0.600000      0.866667      0.733333      0.733333   \n",
       "75%        0.733333      0.800000      0.866667      0.933333      0.933333   \n",
       "max        1.000000      1.000000      1.000000      1.000000      1.000000   \n",
       "\n",
       "                  0  \n",
       "count  14996.000000  \n",
       "mean       0.733876  \n",
       "std        0.276821  \n",
       "min        0.000000  \n",
       "25%        0.600000  \n",
       "50%        0.800000  \n",
       "75%        1.000000  \n",
       "max        1.000000  "
      ]
     },
     "execution_count": 27,
     "metadata": {},
     "output_type": "execute_result"
    }
   ],
   "source": [
    "desc = pd.read_csv(train_data_path)[NUMERIC_FEATURES].describe()\n",
    "desc"
   ]
  },
  {
   "cell_type": "code",
   "execution_count": 28,
   "metadata": {},
   "outputs": [
    {
     "data": {
      "text/plain": [
       "NumericColumn(key='numeric', shape=(16,), default_value=None, dtype=tf.float32, normalizer_fn=None)"
      ]
     },
     "execution_count": 28,
     "metadata": {},
     "output_type": "execute_result"
    }
   ],
   "source": [
    "numeric_column = tf.feature_column.numeric_column('numeric', shape=[len(NUMERIC_FEATURES)])\n",
    "numeric_columns = [numeric_column]\n",
    "numeric_column"
   ]
  },
  {
   "cell_type": "code",
   "execution_count": 29,
   "metadata": {},
   "outputs": [
    {
     "data": {
      "text/plain": [
       "<tf.Tensor: id=1189, shape=(5, 16), dtype=float32, numpy=\n",
       "array([[0.        , 0.26666668, 0.53333336, 1.        , 0.2       ,\n",
       "        0.06666667, 0.46666667, 0.8666667 , 0.4       , 0.13333334,\n",
       "        0.33333334, 0.93333334, 0.8       , 0.6666667 , 0.6       ,\n",
       "        0.73333335],\n",
       "       [0.06666667, 0.13333334, 0.2       , 0.26666668, 0.6       ,\n",
       "        0.33333334, 0.46666667, 0.53333336, 0.4       , 0.93333334,\n",
       "        0.        , 0.8       , 0.8666667 , 1.        , 0.73333335,\n",
       "        0.6666667 ],\n",
       "       [0.33333334, 0.06666667, 0.13333334, 0.26666668, 0.6       ,\n",
       "        0.2       , 0.46666667, 0.53333336, 0.        , 0.8666667 ,\n",
       "        1.        , 0.73333335, 0.93333334, 0.4       , 0.6666667 ,\n",
       "        0.8       ],\n",
       "       [0.4       , 0.8666667 , 0.06666667, 0.6       , 0.93333334,\n",
       "        0.53333336, 0.46666667, 0.73333335, 0.33333334, 0.2       ,\n",
       "        0.8       , 0.13333334, 0.6666667 , 0.        , 1.        ,\n",
       "        0.26666668],\n",
       "       [0.53333336, 0.4       , 0.26666668, 0.2       , 0.        ,\n",
       "        0.06666667, 0.6666667 , 0.13333334, 0.6       , 0.73333335,\n",
       "        0.46666667, 0.8       , 0.8666667 , 0.33333334, 0.93333334,\n",
       "        1.        ]], dtype=float32)>"
      ]
     },
     "execution_count": 29,
     "metadata": {},
     "output_type": "execute_result"
    }
   ],
   "source": [
    "example_batch['numeric']"
   ]
  },
  {
   "cell_type": "code",
   "execution_count": 30,
   "metadata": {},
   "outputs": [
    {
     "data": {
      "text/plain": [
       "array([[0.        , 0.26666668, 0.53333336, 1.        , 0.2       ,\n",
       "        0.06666667, 0.46666667, 0.8666667 , 0.4       , 0.13333334,\n",
       "        0.33333334, 0.93333334, 0.8       , 0.6666667 , 0.6       ,\n",
       "        0.73333335],\n",
       "       [0.06666667, 0.13333334, 0.2       , 0.26666668, 0.6       ,\n",
       "        0.33333334, 0.46666667, 0.53333336, 0.4       , 0.93333334,\n",
       "        0.        , 0.8       , 0.8666667 , 1.        , 0.73333335,\n",
       "        0.6666667 ],\n",
       "       [0.33333334, 0.06666667, 0.13333334, 0.26666668, 0.6       ,\n",
       "        0.2       , 0.46666667, 0.53333336, 0.        , 0.8666667 ,\n",
       "        1.        , 0.73333335, 0.93333334, 0.4       , 0.6666667 ,\n",
       "        0.8       ],\n",
       "       [0.4       , 0.8666667 , 0.06666667, 0.6       , 0.93333334,\n",
       "        0.53333336, 0.46666667, 0.73333335, 0.33333334, 0.2       ,\n",
       "        0.8       , 0.13333334, 0.6666667 , 0.        , 1.        ,\n",
       "        0.26666668],\n",
       "       [0.53333336, 0.4       , 0.26666668, 0.2       , 0.        ,\n",
       "        0.06666667, 0.6666667 , 0.13333334, 0.6       , 0.73333335,\n",
       "        0.46666667, 0.8       , 0.8666667 , 0.33333334, 0.93333334,\n",
       "        1.        ]], dtype=float32)"
      ]
     },
     "execution_count": 30,
     "metadata": {},
     "output_type": "execute_result"
    }
   ],
   "source": [
    "numeric_layer = tf.keras.layers.DenseFeatures(numeric_columns)\n",
    "numeric_layer(example_batch).numpy()"
   ]
  },
  {
   "cell_type": "code",
   "execution_count": 70,
   "metadata": {},
   "outputs": [],
   "source": [
    "model = tf.keras.Sequential([\n",
    "    numeric_layer,\n",
    "    tf.keras.layers.Dense(256, activation='relu'),\n",
    "    tf.keras.layers.Dense(128, activation='relu'),\n",
    "    tf.keras.layers.Dense(128, activation='relu'),\n",
    "    tf.keras.layers.Dense(64, activation='relu'),\n",
    "    tf.keras.layers.Dense(4, activation='softmax')\n",
    "])\n",
    "\n",
    "model.compile(\n",
    "loss = 'sparse_categorical_crossentropy',\n",
    "optimizer='adam',\n",
    "metrics=['accuracy'])"
   ]
  },
  {
   "cell_type": "code",
   "execution_count": 32,
   "metadata": {},
   "outputs": [],
   "source": [
    "train_data = packed_train_data.shuffle(500)\n",
    "test_data = packed_test_data"
   ]
  },
  {
   "cell_type": "code",
   "execution_count": 71,
   "metadata": {},
   "outputs": [
    {
     "name": "stdout",
     "output_type": "stream",
     "text": [
      "Epoch 1/100\n",
      "3000/3000 [==============================] - 7s 2ms/step - loss: 1.2855 - accuracy: 0.37837 - accuracy: 0.3\n",
      "Epoch 2/100\n",
      "3000/3000 [==============================] - 3s 1ms/step - loss: 1.1156 - accuracy: 0.5037\n",
      "Epoch 3/100\n",
      "3000/3000 [==============================] - 3s 1ms/step - loss: 1.0135 - accuracy: 0.5567\n",
      "Epoch 4/100\n",
      "3000/3000 [==============================] - 3s 1ms/step - loss: 0.9254 - accuracy: 0.6036\n",
      "Epoch 5/100\n",
      "3000/3000 [==============================] - 3s 1ms/step - loss: 0.8550 - accuracy: 0.6382\n",
      "Epoch 6/100\n",
      "3000/3000 [==============================] - 3s 1ms/step - loss: 0.7945 - accuracy: 0.6616\n",
      "Epoch 7/100\n",
      "3000/3000 [==============================] - 3s 1ms/step - loss: 0.7413 - accuracy: 0.6901\n",
      "Epoch 8/100\n",
      "3000/3000 [==============================] - 3s 1ms/step - loss: 0.7047 - accuracy: 0.7091\n",
      "Epoch 9/100\n",
      "3000/3000 [==============================] - 3s 1ms/step - loss: 0.6639 - accuracy: 0.7243\n",
      "Epoch 10/100\n",
      "3000/3000 [==============================] - 3s 1ms/step - loss: 0.6313 - accuracy: 0.7423\n",
      "Epoch 11/100\n",
      "3000/3000 [==============================] - 3s 1ms/step - loss: 0.6008 - accuracy: 0.7555\n",
      "Epoch 12/100\n",
      "3000/3000 [==============================] - 3s 1ms/step - loss: 0.5739 - accuracy: 0.7694\n",
      "Epoch 13/100\n",
      "3000/3000 [==============================] - 3s 1ms/step - loss: 0.5447 - accuracy: 0.7807\n",
      "Epoch 14/100\n",
      "3000/3000 [==============================] - 3s 1ms/step - loss: 0.5202 - accuracy: 0.7921\n",
      "Epoch 15/100\n",
      "3000/3000 [==============================] - 3s 1ms/step - loss: 0.5030 - accuracy: 0.8025\n",
      "Epoch 16/100\n",
      "3000/3000 [==============================] - 3s 1ms/step - loss: 0.4781 - accuracy: 0.8119\n",
      "Epoch 17/100\n",
      "3000/3000 [==============================] - 3s 1ms/step - loss: 0.4575 - accuracy: 0.8186\n",
      "Epoch 18/100\n",
      "3000/3000 [==============================] - 3s 1ms/step - loss: 0.4389 - accuracy: 0.8281\n",
      "Epoch 19/100\n",
      "3000/3000 [==============================] - 3s 1ms/step - loss: 0.4173 - accuracy: 0.8351\n",
      "Epoch 20/100\n",
      "3000/3000 [==============================] - 3s 1ms/step - loss: 0.3993 - accuracy: 0.8420\n",
      "Epoch 21/100\n",
      "3000/3000 [==============================] - 3s 1ms/step - loss: 0.3814 - accuracy: 0.8502\n",
      "Epoch 22/100\n",
      "3000/3000 [==============================] - 3s 1ms/step - loss: 0.3611 - accuracy: 0.8560\n",
      "Epoch 23/100\n",
      "3000/3000 [==============================] - 3s 1ms/step - loss: 0.3479 - accuracy: 0.8634\n",
      "Epoch 24/100\n",
      "3000/3000 [==============================] - 3s 1ms/step - loss: 0.3335 - accuracy: 0.8702\n",
      "Epoch 25/100\n",
      "3000/3000 [==============================] - 3s 1ms/step - loss: 0.3127 - accuracy: 0.8806\n",
      "Epoch 26/100\n",
      "3000/3000 [==============================] - 3s 1ms/step - loss: 0.2987 - accuracy: 0.8848\n",
      "Epoch 27/100\n",
      "3000/3000 [==============================] - 3s 1ms/step - loss: 0.2925 - accuracy: 0.8875\n",
      "Epoch 28/100\n",
      "3000/3000 [==============================] - 3s 1ms/step - loss: 0.2752 - accuracy: 0.8964\n",
      "Epoch 29/100\n",
      "3000/3000 [==============================] - 3s 1ms/step - loss: 0.2583 - accuracy: 0.8988\n",
      "Epoch 30/100\n",
      "3000/3000 [==============================] - 3s 1ms/step - loss: 0.2511 - accuracy: 0.9063\n",
      "Epoch 31/100\n",
      "3000/3000 [==============================] - 3s 1ms/step - loss: 0.2386 - accuracy: 0.9087\n",
      "Epoch 32/100\n",
      "3000/3000 [==============================] - 3s 1ms/step - loss: 0.2335 - accuracy: 0.9092\n",
      "Epoch 33/100\n",
      "3000/3000 [==============================] - 3s 1ms/step - loss: 0.2194 - accuracy: 0.9158\n",
      "Epoch 34/100\n",
      "3000/3000 [==============================] - 3s 1ms/step - loss: 0.2152 - accuracy: 0.9210\n",
      "Epoch 35/100\n",
      "3000/3000 [==============================] - 3s 1ms/step - loss: 0.1948 - accuracy: 0.9263\n",
      "Epoch 36/100\n",
      "3000/3000 [==============================] - 3s 1ms/step - loss: 0.1938 - accuracy: 0.9263\n",
      "Epoch 37/100\n",
      "3000/3000 [==============================] - 3s 1ms/step - loss: 0.1816 - accuracy: 0.9311\n",
      "Epoch 38/100\n",
      "3000/3000 [==============================] - 3s 1ms/step - loss: 0.1802 - accuracy: 0.9320\n",
      "Epoch 39/100\n",
      "3000/3000 [==============================] - 3s 1ms/step - loss: 0.1720 - accuracy: 0.9350\n",
      "Epoch 40/100\n",
      "3000/3000 [==============================] - 3s 1ms/step - loss: 0.1687 - accuracy: 0.9360\n",
      "Epoch 41/100\n",
      "3000/3000 [==============================] - 3s 1ms/step - loss: 0.1668 - accuracy: 0.9364\n",
      "Epoch 42/100\n",
      "3000/3000 [==============================] - 3s 1ms/step - loss: 0.1657 - accuracy: 0.9379\n",
      "Epoch 43/100\n",
      "3000/3000 [==============================] - 3s 1ms/step - loss: 0.1485 - accuracy: 0.9453\n",
      "Epoch 44/100\n",
      "3000/3000 [==============================] - 3s 1ms/step - loss: 0.1492 - accuracy: 0.9467\n",
      "Epoch 45/100\n",
      "3000/3000 [==============================] - 3s 1ms/step - loss: 0.1436 - accuracy: 0.9478\n",
      "Epoch 46/100\n",
      "3000/3000 [==============================] - 3s 1ms/step - loss: 0.1414 - accuracy: 0.9500\n",
      "Epoch 47/100\n",
      "3000/3000 [==============================] - 3s 1ms/step - loss: 0.1408 - accuracy: 0.9501\n",
      "Epoch 48/100\n",
      "3000/3000 [==============================] - 3s 1ms/step - loss: 0.1397 - accuracy: 0.9496\n",
      "Epoch 49/100\n",
      "3000/3000 [==============================] - 3s 1ms/step - loss: 0.1282 - accuracy: 0.9543\n",
      "Epoch 50/100\n",
      "3000/3000 [==============================] - 3s 1ms/step - loss: 0.1252 - accuracy: 0.9545\n",
      "Epoch 51/100\n",
      "3000/3000 [==============================] - 3s 1ms/step - loss: 0.1221 - accuracy: 0.9558\n",
      "Epoch 52/100\n",
      "3000/3000 [==============================] - 3s 1ms/step - loss: 0.1269 - accuracy: 0.9523\n",
      "Epoch 53/100\n",
      "3000/3000 [==============================] - 3s 1ms/step - loss: 0.1252 - accuracy: 0.9572\n",
      "Epoch 54/100\n",
      "3000/3000 [==============================] - 3s 1ms/step - loss: 0.1178 - accuracy: 0.9565\n",
      "Epoch 55/100\n",
      "3000/3000 [==============================] - 3s 1ms/step - loss: 0.1133 - accuracy: 0.9577\n",
      "Epoch 56/100\n",
      "3000/3000 [==============================] - 3s 1ms/step - loss: 0.1199 - accuracy: 0.9567\n",
      "Epoch 57/100\n",
      "3000/3000 [==============================] - 3s 1ms/step - loss: 0.1210 - accuracy: 0.9560\n",
      "Epoch 58/100\n",
      "3000/3000 [==============================] - 3s 1ms/step - loss: 0.1152 - accuracy: 0.9599\n",
      "Epoch 59/100\n",
      "3000/3000 [==============================] - 3s 1ms/step - loss: 0.1069 - accuracy: 0.9627\n",
      "Epoch 60/100\n",
      "3000/3000 [==============================] - 3s 1ms/step - loss: 0.1105 - accuracy: 0.9609\n",
      "Epoch 61/100\n",
      "3000/3000 [==============================] - 3s 1ms/step - loss: 0.1015 - accuracy: 0.9633\n",
      "Epoch 62/100\n",
      "3000/3000 [==============================] - 3s 1ms/step - loss: 0.1157 - accuracy: 0.9607\n",
      "Epoch 63/100\n",
      "3000/3000 [==============================] - 3s 1ms/step - loss: 0.1000 - accuracy: 0.9655\n",
      "Epoch 64/100\n",
      "3000/3000 [==============================] - 3s 1ms/step - loss: 0.1075 - accuracy: 0.9627\n",
      "Epoch 65/100\n",
      "3000/3000 [==============================] - 3s 1ms/step - loss: 0.1005 - accuracy: 0.9661\n",
      "Epoch 66/100\n",
      "3000/3000 [==============================] - 3s 1ms/step - loss: 0.1005 - accuracy: 0.9659\n",
      "Epoch 67/100\n",
      "3000/3000 [==============================] - 3s 1ms/step - loss: 0.1078 - accuracy: 0.9623\n",
      "Epoch 68/100\n",
      "3000/3000 [==============================] - 3s 1ms/step - loss: 0.0957 - accuracy: 0.9660\n",
      "Epoch 69/100\n",
      "3000/3000 [==============================] - 3s 1ms/step - loss: 0.0959 - accuracy: 0.9656\n",
      "Epoch 70/100\n",
      "3000/3000 [==============================] - 3s 1ms/step - loss: 0.0985 - accuracy: 0.9663\n",
      "Epoch 71/100\n",
      "3000/3000 [==============================] - 3s 1ms/step - loss: 0.1014 - accuracy: 0.9649\n",
      "Epoch 72/100\n",
      "3000/3000 [==============================] - 3s 1ms/step - loss: 0.0997 - accuracy: 0.9668\n",
      "Epoch 73/100\n",
      "3000/3000 [==============================] - 3s 1ms/step - loss: 0.0934 - accuracy: 0.9680\n",
      "Epoch 74/100\n",
      "3000/3000 [==============================] - 3s 1ms/step - loss: 0.0945 - accuracy: 0.9677\n",
      "Epoch 75/100\n",
      "3000/3000 [==============================] - 3s 1ms/step - loss: 0.0970 - accuracy: 0.9659\n",
      "Epoch 76/100\n",
      "3000/3000 [==============================] - 3s 1ms/step - loss: 0.0899 - accuracy: 0.9699\n",
      "Epoch 77/100\n",
      "3000/3000 [==============================] - 3s 1ms/step - loss: 0.0915 - accuracy: 0.9690\n",
      "Epoch 78/100\n",
      "3000/3000 [==============================] - 3s 1ms/step - loss: 0.0823 - accuracy: 0.9693\n",
      "Epoch 79/100\n"
     ]
    },
    {
     "name": "stdout",
     "output_type": "stream",
     "text": [
      "3000/3000 [==============================] - 3s 1ms/step - loss: 0.0880 - accuracy: 0.9705\n",
      "Epoch 80/100\n",
      "3000/3000 [==============================] - 3s 1ms/step - loss: 0.0931 - accuracy: 0.9675\n",
      "Epoch 81/100\n",
      "3000/3000 [==============================] - 3s 1ms/step - loss: 0.0856 - accuracy: 0.9701\n",
      "Epoch 82/100\n",
      "3000/3000 [==============================] - 3s 1ms/step - loss: 0.0839 - accuracy: 0.9715\n",
      "Epoch 83/100\n",
      "3000/3000 [==============================] - 3s 1ms/step - loss: 0.0891 - accuracy: 0.9703\n",
      "Epoch 84/100\n",
      "3000/3000 [==============================] - 3s 1ms/step - loss: 0.0837 - accuracy: 0.9724\n",
      "Epoch 85/100\n",
      "3000/3000 [==============================] - 3s 1ms/step - loss: 0.0895 - accuracy: 0.9723\n",
      "Epoch 86/100\n",
      "3000/3000 [==============================] - 3s 1ms/step - loss: 0.0813 - accuracy: 0.9704\n",
      "Epoch 87/100\n",
      "3000/3000 [==============================] - 3s 1ms/step - loss: 0.0863 - accuracy: 0.9714\n",
      "Epoch 88/100\n",
      "3000/3000 [==============================] - 3s 1ms/step - loss: 0.0796 - accuracy: 0.9729\n",
      "Epoch 89/100\n",
      "3000/3000 [==============================] - 3s 1ms/step - loss: 0.0913 - accuracy: 0.9721\n",
      "Epoch 90/100\n",
      "3000/3000 [==============================] - 3s 1ms/step - loss: 0.0790 - accuracy: 0.9740\n",
      "Epoch 91/100\n",
      "3000/3000 [==============================] - 3s 1ms/step - loss: 0.0767 - accuracy: 0.9745\n",
      "Epoch 92/100\n",
      "3000/3000 [==============================] - 3s 1ms/step - loss: 0.0770 - accuracy: 0.9733\n",
      "Epoch 93/100\n",
      "3000/3000 [==============================] - 3s 1ms/step - loss: 0.0851 - accuracy: 0.9719\n",
      "Epoch 94/100\n",
      "3000/3000 [==============================] - 3s 1ms/step - loss: 0.0752 - accuracy: 0.9747\n",
      "Epoch 95/100\n",
      "3000/3000 [==============================] - 3s 1ms/step - loss: 0.0770 - accuracy: 0.9743\n",
      "Epoch 96/100\n",
      "3000/3000 [==============================] - 3s 1ms/step - loss: 0.0817 - accuracy: 0.9721\n",
      "Epoch 97/100\n",
      "3000/3000 [==============================] - 3s 1ms/step - loss: 0.0745 - accuracy: 0.9757\n",
      "Epoch 98/100\n",
      "3000/3000 [==============================] - 3s 1ms/step - loss: 0.0832 - accuracy: 0.9723\n",
      "Epoch 99/100\n",
      "3000/3000 [==============================] - 3s 1ms/step - loss: 0.0822 - accuracy: 0.9740\n",
      "Epoch 100/100\n",
      "3000/3000 [==============================] - 3s 1ms/step - loss: 0.0754 - accuracy: 0.9759\n"
     ]
    },
    {
     "data": {
      "text/plain": [
       "<tensorflow.python.keras.callbacks.History at 0x22350bf16c8>"
      ]
     },
     "execution_count": 71,
     "metadata": {},
     "output_type": "execute_result"
    }
   ],
   "source": [
    "model.fit(train_data, epochs=100)"
   ]
  },
  {
   "cell_type": "code",
   "execution_count": 72,
   "metadata": {},
   "outputs": [
    {
     "name": "stdout",
     "output_type": "stream",
     "text": [
      "758/758 [==============================] - 1s 2ms/step - loss: 2.8609 - accuracy: 0.6964\n",
      "\n",
      "\n",
      "Test Loss 2.8608861773647076, Test Accuracy 0.6964097023010254\n"
     ]
    }
   ],
   "source": [
    "test_loss, test_accuracy = model.evaluate(test_data)\n",
    "\n",
    "print('\\n\\nTest Loss {}, Test Accuracy {}'.format(test_loss, test_accuracy))"
   ]
  },
  {
   "cell_type": "code",
   "execution_count": 39,
   "metadata": {},
   "outputs": [
    {
     "data": {
      "text/plain": [
       "array([9.9470747e-01, 1.2764896e-07, 5.1976931e-03, 9.4714720e-05],\n",
       "      dtype=float32)"
      ]
     },
     "execution_count": 39,
     "metadata": {},
     "output_type": "execute_result"
    }
   ],
   "source": []
  },
  {
   "cell_type": "code",
   "execution_count": null,
   "metadata": {},
   "outputs": [],
   "source": []
  }
 ],
 "metadata": {
  "kernelspec": {
   "display_name": "Python 3",
   "language": "python",
   "name": "python3"
  },
  "language_info": {
   "codemirror_mode": {
    "name": "ipython",
    "version": 3
   },
   "file_extension": ".py",
   "mimetype": "text/x-python",
   "name": "python",
   "nbconvert_exporter": "python",
   "pygments_lexer": "ipython3",
   "version": "3.7.4"
  }
 },
 "nbformat": 4,
 "nbformat_minor": 2
}
