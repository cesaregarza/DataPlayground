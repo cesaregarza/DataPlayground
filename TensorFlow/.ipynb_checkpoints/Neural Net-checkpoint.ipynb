{
 "cells": [
  {
   "cell_type": "code",
   "execution_count": 1,
   "metadata": {},
   "outputs": [],
   "source": [
    "import tensorflow as tf\n",
    "import numpy as np\n",
    "import csv\n",
    "import functools\n",
    "import pandas as pd"
   ]
  },
  {
   "cell_type": "code",
   "execution_count": 2,
   "metadata": {},
   "outputs": [],
   "source": [
    "test_data_path = \"testdata_20.csv\"\n",
    "train_data_path = \"traindata_80.csv\""
   ]
  },
  {
   "cell_type": "code",
   "execution_count": 3,
   "metadata": {},
   "outputs": [],
   "source": [
    "LABEL_COLUMN = 'move'\n",
    "LABELS = [0, 1, 2, 3]"
   ]
  },
  {
   "cell_type": "code",
   "execution_count": 4,
   "metadata": {},
   "outputs": [],
   "source": [
    "def get_dataset(file_path, **kwargs):\n",
    "    dataset = tf.data.experimental.make_csv_dataset(\n",
    "        file_path,\n",
    "        batch_size = 5,\n",
    "        label_name = LABEL_COLUMN,\n",
    "        num_epochs = 1,\n",
    "        ignore_errors = True,\n",
    "        **kwargs)\n",
    "    return dataset"
   ]
  },
  {
   "cell_type": "code",
   "execution_count": 5,
   "metadata": {},
   "outputs": [
    {
     "name": "stderr",
     "output_type": "stream",
     "text": [
      "WARNING: Logging before flag parsing goes to stderr.\n",
      "W0917 15:33:08.600006  5740 deprecation.py:323] From c:\\users\\cesar pc\\appdata\\local\\programs\\python\\python37\\lib\\site-packages\\tensorflow_core\\python\\data\\experimental\\ops\\readers.py:521: parallel_interleave (from tensorflow.python.data.experimental.ops.interleave_ops) is deprecated and will be removed in a future version.\n",
      "Instructions for updating:\n",
      "Use `tf.data.Dataset.interleave(map_func, cycle_length, block_length, num_parallel_calls=tf.data.experimental.AUTOTUNE)` instead. If sloppy execution is desired, use `tf.data.Options.experimental_determinstic`.\n"
     ]
    }
   ],
   "source": [
    "raw_train_data = get_dataset(train_data_path)\n",
    "raw_test_data = get_dataset(test_data_path)"
   ]
  },
  {
   "cell_type": "code",
   "execution_count": 6,
   "metadata": {},
   "outputs": [
    {
     "ename": "AttributeError",
     "evalue": "module 'tensorflow' has no attribute 'get_tensors'",
     "output_type": "error",
     "traceback": [
      "\u001b[1;31m---------------------------------------------------------------------------\u001b[0m",
      "\u001b[1;31mAttributeError\u001b[0m                            Traceback (most recent call last)",
      "\u001b[1;32m<ipython-input-6-115dc7f39616>\u001b[0m in \u001b[0;36m<module>\u001b[1;34m\u001b[0m\n\u001b[1;32m----> 1\u001b[1;33m \u001b[0mtf\u001b[0m\u001b[1;33m.\u001b[0m\u001b[0mget_tensors\u001b[0m\u001b[1;33m(\u001b[0m\u001b[1;33m)\u001b[0m\u001b[1;33m\u001b[0m\u001b[1;33m\u001b[0m\u001b[0m\n\u001b[0m",
      "\u001b[1;31mAttributeError\u001b[0m: module 'tensorflow' has no attribute 'get_tensors'"
     ]
    }
   ],
   "source": []
  },
  {
   "cell_type": "code",
   "execution_count": 7,
   "metadata": {},
   "outputs": [],
   "source": [
    "def show_batch(dataset):\n",
    "    for batch, label in dataset.take(1):\n",
    "        for key, value in batch.items():\n",
    "            print(\"{:20s}: {}\".format(key, value.numpy()))"
   ]
  },
  {
   "cell_type": "code",
   "execution_count": 8,
   "metadata": {},
   "outputs": [
    {
     "name": "stdout",
     "output_type": "stream",
     "text": [
      "1                   : [0.06666667 0.46666667 0.53333336 0.13333334 0.06666667]\n",
      "2                   : [0.46666667 0.6        0.13333334 0.06666667 0.13333334]\n",
      "3                   : [0.73333335 0.53333336 0.46666667 0.4        0.2       ]\n",
      "4                   : [0.2        0.4        0.6        0.33333334 0.26666668]\n",
      "5                   : [0.6        0.2        1.         0.93333334 0.33333334]\n",
      "6                   : [0.33333334 0.06666667 0.8        0.6        0.4       ]\n",
      "7                   : [0.13333334 0.6666667  0.33333334 0.53333336 0.46666667]\n",
      "8                   : [0.26666668 0.26666668 0.93333334 0.26666668 0.53333336]\n",
      "9                   : [0.8666667  0.13333334 0.6666667  0.         0.6666667 ]\n",
      "10                  : [0.4        0.93333334 0.         1.         0.        ]\n",
      "11                  : [0.         0.33333334 0.73333335 0.2        0.73333335]\n",
      "12                  : [0.53333336 0.8        0.06666667 0.73333335 0.8       ]\n",
      "13                  : [0.93333334 0.8666667  0.26666668 0.46666667 0.6       ]\n",
      "14                  : [1.        0.        0.8666667 0.8666667 0.8666667]\n",
      "15                  : [0.6666667  0.73333335 0.4        0.6666667  0.93333334]\n",
      "0                   : [0.8 1.  0.2 0.8 1. ]\n"
     ]
    }
   ],
   "source": [
    "show_batch(raw_test_data)"
   ]
  },
  {
   "cell_type": "code",
   "execution_count": 9,
   "metadata": {},
   "outputs": [
    {
     "name": "stdout",
     "output_type": "stream",
     "text": [
      "1                   : [0.2        0.93333334 0.2        0.06666667 0.06666667]\n",
      "2                   : [0.26666668 0.6        0.33333334 0.13333334 0.13333334]\n",
      "3                   : [0.         0.53333336 0.8666667  0.         0.26666668]\n",
      "4                   : [0.53333336 0.26666668 0.06666667 0.53333336 0.8       ]\n",
      "5                   : [0.06666667 0.6666667  0.4        0.33333334 0.33333334]\n",
      "6                   : [0.13333334 0.4        0.         0.4        0.93333334]\n",
      "7                   : [0.6666667  0.46666667 0.46666667 0.26666668 0.        ]\n",
      "8                   : [0.46666667 0.8        0.6        0.8        0.4       ]\n",
      "9                   : [0.4        1.         0.26666668 0.6        0.6666667 ]\n",
      "10                  : [0.33333334 0.8666667  0.8        0.6666667  0.2       ]\n",
      "11                  : [0.6        0.73333335 0.73333335 0.2        1.        ]\n",
      "12                  : [0.8        0.33333334 0.13333334 0.46666667 0.46666667]\n",
      "13                  : [0.8666667  0.06666667 0.6666667  0.8666667  0.6       ]\n",
      "14                  : [0.93333334 0.         0.93333334 0.93333334 0.73333335]\n",
      "15                  : [0.73333335 0.13333334 0.53333336 0.73333335 0.53333336]\n",
      "0                   : [1.        0.2       1.        1.        0.8666667]\n"
     ]
    }
   ],
   "source": [
    "CSV_COLUMNS=['1','2','3','4','5','6','7','8','9','10','11','12','13','14','15','0','move']\n",
    "temp_dataset = get_dataset(train_data_path, column_names=CSV_COLUMNS)\n",
    "show_batch(temp_dataset)"
   ]
  },
  {
   "cell_type": "code",
   "execution_count": 10,
   "metadata": {},
   "outputs": [],
   "source": [
    "example_batch, labels_batch = next(iter(temp_dataset))"
   ]
  },
  {
   "cell_type": "code",
   "execution_count": 11,
   "metadata": {},
   "outputs": [],
   "source": [
    "def pack(features, label):\n",
    "    return tf.stack(list(features.values()), axis=-1), label"
   ]
  },
  {
   "cell_type": "code",
   "execution_count": 12,
   "metadata": {},
   "outputs": [
    {
     "name": "stdout",
     "output_type": "stream",
     "text": [
      "[[0.33333334 0.06666667 0.53333336 0.4        0.6        0.\n",
      "  0.13333334 0.46666667 0.6666667  0.2        0.8        0.26666668\n",
      "  0.8666667  0.93333334 0.73333335 1.        ]\n",
      " [0.06666667 0.13333334 0.2        0.26666668 0.33333334 0.4\n",
      "  0.8        0.46666667 0.6        0.73333335 0.53333336 1.\n",
      "  0.8666667  0.         0.6666667  0.93333334]\n",
      " [0.4        0.6666667  0.53333336 0.         0.8666667  0.73333335\n",
      "  0.26666668 0.6        0.13333334 0.33333334 0.8        0.2\n",
      "  0.06666667 0.93333334 0.46666667 1.        ]\n",
      " [0.06666667 0.13333334 0.26666668 0.53333336 0.33333334 0.8666667\n",
      "  0.4        0.46666667 0.6666667  0.8        0.         0.2\n",
      "  0.6        0.93333334 0.73333335 1.        ]\n",
      " [0.33333334 0.2        0.73333335 0.26666668 0.13333334 0.8\n",
      "  0.         0.06666667 0.6666667  0.53333336 0.93333334 0.4\n",
      "  0.6        0.8666667  1.         0.46666667]]\n",
      "\n",
      "[0 3 1 1 3]\n"
     ]
    }
   ],
   "source": [
    "packed_dataset = temp_dataset.map(pack)\n",
    "for features, labels in packed_dataset.take(1):\n",
    "    print(features.numpy())\n",
    "    print()\n",
    "    print(labels.numpy())"
   ]
  },
  {
   "cell_type": "code",
   "execution_count": 13,
   "metadata": {},
   "outputs": [],
   "source": [
    "class PackNumericFeatures(object):\n",
    "  def __init__(self, names):\n",
    "    self.names = names\n",
    "\n",
    "  def __call__(self, features, labels):\n",
    "    numeric_freatures = [features.pop(name) for name in self.names]\n",
    "    numeric_features = [tf.cast(feat, tf.float32) for feat in numeric_freatures]\n",
    "    numeric_features = tf.stack(numeric_features, axis=-1)\n",
    "    features['numeric'] = numeric_features\n",
    "\n",
    "    return features, labels"
   ]
  },
  {
   "cell_type": "code",
   "execution_count": 14,
   "metadata": {},
   "outputs": [],
   "source": [
    "NUMERIC_FEATURES = ['1','2','3','4','5','6','7','8','9','10','11','12','13','14','15','0']\n",
    "\n",
    "packed_train_data = raw_train_data.map(PackNumericFeatures(NUMERIC_FEATURES))\n",
    "packed_test_data = raw_test_data.map(PackNumericFeatures(NUMERIC_FEATURES))"
   ]
  },
  {
   "cell_type": "code",
   "execution_count": 15,
   "metadata": {},
   "outputs": [
    {
     "name": "stdout",
     "output_type": "stream",
     "text": [
      "numeric             : [[0.4        0.6666667  0.26666668 0.53333336 0.8666667  0.73333335\n",
      "  0.6        0.2        0.13333334 0.33333334 0.         0.8\n",
      "  0.06666667 0.93333334 0.46666667 1.        ]\n",
      " [0.6666667  0.6        0.8        0.4        0.13333334 0.93333334\n",
      "  0.2        0.         0.06666667 0.73333335 0.26666668 1.\n",
      "  0.33333334 0.53333336 0.46666667 0.8666667 ]\n",
      " [0.06666667 0.13333334 0.2        0.26666668 0.33333334 0.4\n",
      "  0.         0.73333335 0.6        0.6666667  0.53333336 0.46666667\n",
      "  0.8666667  0.93333334 1.         0.8       ]\n",
      " [0.         0.06666667 0.2        0.26666668 0.6666667  0.13333334\n",
      "  0.33333334 0.53333336 0.4        0.73333335 0.46666667 0.8\n",
      "  0.6        0.8666667  0.93333334 1.        ]\n",
      " [0.13333334 0.4        0.         0.2        0.06666667 0.8666667\n",
      "  0.46666667 0.26666668 0.33333334 0.93333334 0.8        0.53333336\n",
      "  0.73333335 0.6        0.6666667  1.        ]]\n"
     ]
    }
   ],
   "source": [
    "show_batch(packed_train_data)"
   ]
  },
  {
   "cell_type": "code",
   "execution_count": 16,
   "metadata": {},
   "outputs": [],
   "source": [
    "example_batch, labels_batch = next(iter(packed_train_data))"
   ]
  },
  {
   "cell_type": "code",
   "execution_count": 17,
   "metadata": {},
   "outputs": [
    {
     "data": {
      "text/html": [
       "<div>\n",
       "<style scoped>\n",
       "    .dataframe tbody tr th:only-of-type {\n",
       "        vertical-align: middle;\n",
       "    }\n",
       "\n",
       "    .dataframe tbody tr th {\n",
       "        vertical-align: top;\n",
       "    }\n",
       "\n",
       "    .dataframe thead th {\n",
       "        text-align: right;\n",
       "    }\n",
       "</style>\n",
       "<table border=\"1\" class=\"dataframe\">\n",
       "  <thead>\n",
       "    <tr style=\"text-align: right;\">\n",
       "      <th></th>\n",
       "      <th>1</th>\n",
       "      <th>2</th>\n",
       "      <th>3</th>\n",
       "      <th>4</th>\n",
       "      <th>5</th>\n",
       "      <th>6</th>\n",
       "      <th>7</th>\n",
       "      <th>8</th>\n",
       "      <th>9</th>\n",
       "      <th>10</th>\n",
       "      <th>11</th>\n",
       "      <th>12</th>\n",
       "      <th>13</th>\n",
       "      <th>14</th>\n",
       "      <th>15</th>\n",
       "      <th>0</th>\n",
       "    </tr>\n",
       "  </thead>\n",
       "  <tbody>\n",
       "    <tr>\n",
       "      <td>count</td>\n",
       "      <td>36265.000000</td>\n",
       "      <td>36265.000000</td>\n",
       "      <td>36265.000000</td>\n",
       "      <td>36265.000000</td>\n",
       "      <td>36265.000000</td>\n",
       "      <td>36265.000000</td>\n",
       "      <td>36265.000000</td>\n",
       "      <td>36265.000000</td>\n",
       "      <td>36265.000000</td>\n",
       "      <td>36265.000000</td>\n",
       "      <td>36265.000000</td>\n",
       "      <td>36265.000000</td>\n",
       "      <td>36265.000000</td>\n",
       "      <td>36265.000000</td>\n",
       "      <td>36265.000000</td>\n",
       "      <td>36265.000000</td>\n",
       "    </tr>\n",
       "    <tr>\n",
       "      <td>mean</td>\n",
       "      <td>0.279778</td>\n",
       "      <td>0.314130</td>\n",
       "      <td>0.348851</td>\n",
       "      <td>0.369706</td>\n",
       "      <td>0.405230</td>\n",
       "      <td>0.418440</td>\n",
       "      <td>0.434090</td>\n",
       "      <td>0.479906</td>\n",
       "      <td>0.527039</td>\n",
       "      <td>0.532558</td>\n",
       "      <td>0.535990</td>\n",
       "      <td>0.583518</td>\n",
       "      <td>0.691683</td>\n",
       "      <td>0.672886</td>\n",
       "      <td>0.677831</td>\n",
       "      <td>0.728366</td>\n",
       "    </tr>\n",
       "    <tr>\n",
       "      <td>std</td>\n",
       "      <td>0.266542</td>\n",
       "      <td>0.263794</td>\n",
       "      <td>0.254002</td>\n",
       "      <td>0.228874</td>\n",
       "      <td>0.268826</td>\n",
       "      <td>0.283213</td>\n",
       "      <td>0.276243</td>\n",
       "      <td>0.256543</td>\n",
       "      <td>0.271056</td>\n",
       "      <td>0.300927</td>\n",
       "      <td>0.303460</td>\n",
       "      <td>0.281221</td>\n",
       "      <td>0.258426</td>\n",
       "      <td>0.294708</td>\n",
       "      <td>0.302302</td>\n",
       "      <td>0.273987</td>\n",
       "    </tr>\n",
       "    <tr>\n",
       "      <td>min</td>\n",
       "      <td>0.000000</td>\n",
       "      <td>0.000000</td>\n",
       "      <td>0.000000</td>\n",
       "      <td>0.000000</td>\n",
       "      <td>0.000000</td>\n",
       "      <td>0.000000</td>\n",
       "      <td>0.000000</td>\n",
       "      <td>0.000000</td>\n",
       "      <td>0.000000</td>\n",
       "      <td>0.000000</td>\n",
       "      <td>0.000000</td>\n",
       "      <td>0.000000</td>\n",
       "      <td>0.000000</td>\n",
       "      <td>0.000000</td>\n",
       "      <td>0.000000</td>\n",
       "      <td>0.000000</td>\n",
       "    </tr>\n",
       "    <tr>\n",
       "      <td>25%</td>\n",
       "      <td>0.066667</td>\n",
       "      <td>0.133333</td>\n",
       "      <td>0.200000</td>\n",
       "      <td>0.266667</td>\n",
       "      <td>0.200000</td>\n",
       "      <td>0.200000</td>\n",
       "      <td>0.200000</td>\n",
       "      <td>0.266667</td>\n",
       "      <td>0.333333</td>\n",
       "      <td>0.333333</td>\n",
       "      <td>0.333333</td>\n",
       "      <td>0.400000</td>\n",
       "      <td>0.600000</td>\n",
       "      <td>0.466667</td>\n",
       "      <td>0.466667</td>\n",
       "      <td>0.533333</td>\n",
       "    </tr>\n",
       "    <tr>\n",
       "      <td>50%</td>\n",
       "      <td>0.133333</td>\n",
       "      <td>0.200000</td>\n",
       "      <td>0.266667</td>\n",
       "      <td>0.266667</td>\n",
       "      <td>0.333333</td>\n",
       "      <td>0.400000</td>\n",
       "      <td>0.466667</td>\n",
       "      <td>0.533333</td>\n",
       "      <td>0.600000</td>\n",
       "      <td>0.600000</td>\n",
       "      <td>0.600000</td>\n",
       "      <td>0.666667</td>\n",
       "      <td>0.866667</td>\n",
       "      <td>0.733333</td>\n",
       "      <td>0.733333</td>\n",
       "      <td>0.800000</td>\n",
       "    </tr>\n",
       "    <tr>\n",
       "      <td>75%</td>\n",
       "      <td>0.400000</td>\n",
       "      <td>0.466667</td>\n",
       "      <td>0.533333</td>\n",
       "      <td>0.466667</td>\n",
       "      <td>0.600000</td>\n",
       "      <td>0.600000</td>\n",
       "      <td>0.666667</td>\n",
       "      <td>0.666667</td>\n",
       "      <td>0.666667</td>\n",
       "      <td>0.733333</td>\n",
       "      <td>0.733333</td>\n",
       "      <td>0.800000</td>\n",
       "      <td>0.866667</td>\n",
       "      <td>0.933333</td>\n",
       "      <td>0.933333</td>\n",
       "      <td>1.000000</td>\n",
       "    </tr>\n",
       "    <tr>\n",
       "      <td>max</td>\n",
       "      <td>1.000000</td>\n",
       "      <td>1.000000</td>\n",
       "      <td>1.000000</td>\n",
       "      <td>1.000000</td>\n",
       "      <td>1.000000</td>\n",
       "      <td>1.000000</td>\n",
       "      <td>1.000000</td>\n",
       "      <td>1.000000</td>\n",
       "      <td>1.000000</td>\n",
       "      <td>1.000000</td>\n",
       "      <td>1.000000</td>\n",
       "      <td>1.000000</td>\n",
       "      <td>1.000000</td>\n",
       "      <td>1.000000</td>\n",
       "      <td>1.000000</td>\n",
       "      <td>1.000000</td>\n",
       "    </tr>\n",
       "  </tbody>\n",
       "</table>\n",
       "</div>"
      ],
      "text/plain": [
       "                  1             2             3             4             5  \\\n",
       "count  36265.000000  36265.000000  36265.000000  36265.000000  36265.000000   \n",
       "mean       0.279778      0.314130      0.348851      0.369706      0.405230   \n",
       "std        0.266542      0.263794      0.254002      0.228874      0.268826   \n",
       "min        0.000000      0.000000      0.000000      0.000000      0.000000   \n",
       "25%        0.066667      0.133333      0.200000      0.266667      0.200000   \n",
       "50%        0.133333      0.200000      0.266667      0.266667      0.333333   \n",
       "75%        0.400000      0.466667      0.533333      0.466667      0.600000   \n",
       "max        1.000000      1.000000      1.000000      1.000000      1.000000   \n",
       "\n",
       "                  6             7             8             9            10  \\\n",
       "count  36265.000000  36265.000000  36265.000000  36265.000000  36265.000000   \n",
       "mean       0.418440      0.434090      0.479906      0.527039      0.532558   \n",
       "std        0.283213      0.276243      0.256543      0.271056      0.300927   \n",
       "min        0.000000      0.000000      0.000000      0.000000      0.000000   \n",
       "25%        0.200000      0.200000      0.266667      0.333333      0.333333   \n",
       "50%        0.400000      0.466667      0.533333      0.600000      0.600000   \n",
       "75%        0.600000      0.666667      0.666667      0.666667      0.733333   \n",
       "max        1.000000      1.000000      1.000000      1.000000      1.000000   \n",
       "\n",
       "                 11            12            13            14            15  \\\n",
       "count  36265.000000  36265.000000  36265.000000  36265.000000  36265.000000   \n",
       "mean       0.535990      0.583518      0.691683      0.672886      0.677831   \n",
       "std        0.303460      0.281221      0.258426      0.294708      0.302302   \n",
       "min        0.000000      0.000000      0.000000      0.000000      0.000000   \n",
       "25%        0.333333      0.400000      0.600000      0.466667      0.466667   \n",
       "50%        0.600000      0.666667      0.866667      0.733333      0.733333   \n",
       "75%        0.733333      0.800000      0.866667      0.933333      0.933333   \n",
       "max        1.000000      1.000000      1.000000      1.000000      1.000000   \n",
       "\n",
       "                  0  \n",
       "count  36265.000000  \n",
       "mean       0.728366  \n",
       "std        0.273987  \n",
       "min        0.000000  \n",
       "25%        0.533333  \n",
       "50%        0.800000  \n",
       "75%        1.000000  \n",
       "max        1.000000  "
      ]
     },
     "execution_count": 17,
     "metadata": {},
     "output_type": "execute_result"
    }
   ],
   "source": [
    "desc = pd.read_csv(train_data_path)[NUMERIC_FEATURES].describe()\n",
    "desc"
   ]
  },
  {
   "cell_type": "code",
   "execution_count": 18,
   "metadata": {},
   "outputs": [
    {
     "data": {
      "text/plain": [
       "NumericColumn(key='numeric', shape=(16,), default_value=None, dtype=tf.float32, normalizer_fn=None)"
      ]
     },
     "execution_count": 18,
     "metadata": {},
     "output_type": "execute_result"
    }
   ],
   "source": [
    "numeric_column = tf.feature_column.numeric_column('numeric', shape=[len(NUMERIC_FEATURES)])\n",
    "numeric_columns = [numeric_column]\n",
    "numeric_column"
   ]
  },
  {
   "cell_type": "code",
   "execution_count": 19,
   "metadata": {},
   "outputs": [
    {
     "data": {
      "text/plain": [
       "<tf.Tensor: id=493, shape=(5, 16), dtype=float32, numpy=\n",
       "array([[0.06666667, 0.13333334, 0.2       , 0.26666668, 0.33333334,\n",
       "        0.73333335, 0.46666667, 1.        , 0.8666667 , 0.4       ,\n",
       "        0.        , 0.6666667 , 0.93333334, 0.6       , 0.8       ,\n",
       "        0.53333336],\n",
       "       [0.06666667, 0.        , 0.8       , 0.8666667 , 0.73333335,\n",
       "        1.        , 0.13333334, 0.2       , 0.4       , 0.46666667,\n",
       "        0.26666668, 0.33333334, 0.6666667 , 0.6       , 0.93333334,\n",
       "        0.53333336],\n",
       "       [0.06666667, 0.13333334, 0.26666668, 0.33333334, 0.6666667 ,\n",
       "        0.2       , 0.73333335, 0.4       , 0.6       , 0.8666667 ,\n",
       "        0.        , 0.46666667, 0.93333334, 0.53333336, 1.        ,\n",
       "        0.8       ],\n",
       "       [0.06666667, 0.13333334, 0.2       , 0.26666668, 0.73333335,\n",
       "        0.8       , 0.33333334, 0.46666667, 0.4       , 0.        ,\n",
       "        1.        , 0.53333336, 0.6666667 , 0.6       , 0.8666667 ,\n",
       "        0.93333334],\n",
       "       [0.6       , 0.33333334, 0.2       , 0.26666668, 0.4       ,\n",
       "        0.06666667, 0.13333334, 0.53333336, 0.        , 0.46666667,\n",
       "        0.73333335, 0.8       , 1.        , 0.8666667 , 0.6666667 ,\n",
       "        0.93333334]], dtype=float32)>"
      ]
     },
     "execution_count": 19,
     "metadata": {},
     "output_type": "execute_result"
    }
   ],
   "source": [
    "example_batch['numeric']"
   ]
  },
  {
   "cell_type": "code",
   "execution_count": 20,
   "metadata": {
    "scrolled": false
   },
   "outputs": [
    {
     "data": {
      "text/plain": [
       "array([[0.06666667, 0.13333334, 0.2       , 0.26666668, 0.33333334,\n",
       "        0.73333335, 0.46666667, 1.        , 0.8666667 , 0.4       ,\n",
       "        0.        , 0.6666667 , 0.93333334, 0.6       , 0.8       ,\n",
       "        0.53333336],\n",
       "       [0.06666667, 0.        , 0.8       , 0.8666667 , 0.73333335,\n",
       "        1.        , 0.13333334, 0.2       , 0.4       , 0.46666667,\n",
       "        0.26666668, 0.33333334, 0.6666667 , 0.6       , 0.93333334,\n",
       "        0.53333336],\n",
       "       [0.06666667, 0.13333334, 0.26666668, 0.33333334, 0.6666667 ,\n",
       "        0.2       , 0.73333335, 0.4       , 0.6       , 0.8666667 ,\n",
       "        0.        , 0.46666667, 0.93333334, 0.53333336, 1.        ,\n",
       "        0.8       ],\n",
       "       [0.06666667, 0.13333334, 0.2       , 0.26666668, 0.73333335,\n",
       "        0.8       , 0.33333334, 0.46666667, 0.4       , 0.        ,\n",
       "        1.        , 0.53333336, 0.6666667 , 0.6       , 0.8666667 ,\n",
       "        0.93333334],\n",
       "       [0.6       , 0.33333334, 0.2       , 0.26666668, 0.4       ,\n",
       "        0.06666667, 0.13333334, 0.53333336, 0.        , 0.46666667,\n",
       "        0.73333335, 0.8       , 1.        , 0.8666667 , 0.6666667 ,\n",
       "        0.93333334]], dtype=float32)"
      ]
     },
     "execution_count": 20,
     "metadata": {},
     "output_type": "execute_result"
    }
   ],
   "source": [
    "numeric_layer = tf.keras.layers.DenseFeatures(numeric_columns)\n",
    "numeric_layer(example_batch).numpy()"
   ]
  },
  {
   "cell_type": "code",
   "execution_count": 28,
   "metadata": {},
   "outputs": [],
   "source": [
    "model = tf.keras.Sequential([\n",
    "    numeric_layer,\n",
    "    tf.keras.layers.Dense(2048, activation='relu'),\n",
    "    tf.keras.layers.Dropout(0.3),\n",
    "    tf.keras.layers.Dense(1024, activation='relu'),\n",
    "    tf.keras.layers.Dense(4, activation='softmax')\n",
    "])\n",
    "\n",
    "model.compile(\n",
    "loss = 'sparse_categorical_crossentropy',\n",
    "optimizer='adam',\n",
    "metrics=['accuracy'])"
   ]
  },
  {
   "cell_type": "code",
   "execution_count": 22,
   "metadata": {},
   "outputs": [],
   "source": [
    "train_data = packed_train_data.shuffle(500)\n",
    "test_data = packed_test_data"
   ]
  },
  {
   "cell_type": "code",
   "execution_count": 29,
   "metadata": {
    "scrolled": true
   },
   "outputs": [
    {
     "name": "stdout",
     "output_type": "stream",
     "text": [
      "Epoch 1/25\n",
      "7253/7253 [==============================] - 96s 13ms/step - loss: 1.2443 - accuracy: 0.4120\n",
      "Epoch 2/25\n",
      "7253/7253 [==============================] - 86s 12ms/step - loss: 1.0468 - accuracy: 0.5400\n",
      "Epoch 3/25\n",
      "7253/7253 [==============================] - 86s 12ms/step - loss: 0.9152 - accuracy: 0.6074\n",
      "Epoch 4/25\n",
      "7253/7253 [==============================] - 85s 12ms/step - loss: 0.8334 - accuracy: 0.6484\n",
      "Epoch 5/25\n",
      "7253/7253 [==============================] - 85s 12ms/step - loss: 0.7752 - accuracy: 0.6797\n",
      "Epoch 6/25\n",
      "7253/7253 [==============================] - 87s 12ms/step - loss: 0.7446 - accuracy: 0.6944\n",
      "Epoch 7/25\n",
      "7253/7253 [==============================] - 84s 12ms/step - loss: 0.7205 - accuracy: 0.7047\n",
      "Epoch 8/25\n",
      "7253/7253 [==============================] - 85s 12ms/step - loss: 0.7000 - accuracy: 0.7166\n",
      "Epoch 9/25\n",
      "7253/7253 [==============================] - 85s 12ms/step - loss: 0.6842 - accuracy: 0.7233\n",
      "Epoch 10/25\n",
      "7253/7253 [==============================] - 84s 12ms/step - loss: 0.6707 - accuracy: 0.7285\n",
      "Epoch 11/25\n",
      "7253/7253 [==============================] - 85s 12ms/step - loss: 0.6622 - accuracy: 0.7302\n",
      "Epoch 12/25\n",
      "7253/7253 [==============================] - 85s 12ms/step - loss: 0.6526 - accuracy: 0.7362\n",
      "Epoch 13/25\n",
      "7253/7253 [==============================] - 85s 12ms/step - loss: 0.6445 - accuracy: 0.7377\n",
      "Epoch 14/25\n",
      "7253/7253 [==============================] - 85s 12ms/step - loss: 0.6405 - accuracy: 0.7391\n",
      "Epoch 15/25\n",
      "7253/7253 [==============================] - 82s 11ms/step - loss: 0.6362 - accuracy: 0.7417\n",
      "Epoch 16/25\n",
      "7253/7253 [==============================] - 82s 11ms/step - loss: 0.6264 - accuracy: 0.7456\n",
      "Epoch 17/25\n",
      "7253/7253 [==============================] - 82s 11ms/step - loss: 0.6275 - accuracy: 0.7465\n",
      "Epoch 18/25\n",
      "7253/7253 [==============================] - 82s 11ms/step - loss: 0.6168 - accuracy: 0.7500\n",
      "Epoch 19/25\n",
      "7253/7253 [==============================] - 83s 11ms/step - loss: 0.6145 - accuracy: 0.7528\n",
      "Epoch 20/25\n",
      "7253/7253 [==============================] - 82s 11ms/step - loss: 0.6114 - accuracy: 0.7539\n",
      "Epoch 21/25\n",
      "7253/7253 [==============================] - 82s 11ms/step - loss: 0.6058 - accuracy: 0.7575\n",
      "Epoch 22/25\n",
      "7253/7253 [==============================] - 82s 11ms/step - loss: 0.6006 - accuracy: 0.7573\n",
      "Epoch 23/25\n",
      "7253/7253 [==============================] - 84s 12ms/step - loss: 0.5992 - accuracy: 0.7577\n",
      "Epoch 24/25\n",
      "7253/7253 [==============================] - 81s 11ms/step - loss: 0.5992 - accuracy: 0.7589\n",
      "Epoch 25/25\n",
      "7253/7253 [==============================] - 82s 11ms/step - loss: 0.5901 - accuracy: 0.7630\n"
     ]
    },
    {
     "data": {
      "text/plain": [
       "<tensorflow.python.keras.callbacks.History at 0x14a00a59888>"
      ]
     },
     "execution_count": 29,
     "metadata": {},
     "output_type": "execute_result"
    }
   ],
   "source": [
    "model.fit(train_data, epochs=25)"
   ]
  },
  {
   "cell_type": "code",
   "execution_count": 30,
   "metadata": {},
   "outputs": [
    {
     "name": "stdout",
     "output_type": "stream",
     "text": [
      "1804/1804 [==============================] - 6s 3ms/step - loss: 0.5803 - accuracy: 0.7643\n",
      "\n",
      "\n",
      "Test Loss 0.5803166242835717, Test Accuracy 0.7643015384674072\n"
     ]
    }
   ],
   "source": [
    "test_loss, test_accuracy = model.evaluate(test_data)\n",
    "\n",
    "print('\\n\\nTest Loss {}, Test Accuracy {}'.format(test_loss, test_accuracy))"
   ]
  },
  {
   "cell_type": "code",
   "execution_count": null,
   "metadata": {},
   "outputs": [],
   "source": [
    "test_loss, test_accuracy = model.evaluate(test_data)\n",
    "\n",
    "print('\\n\\nTest Loss {}, Test Accuracy {}'.format(test_loss, test_accuracy)) #25 epochs: 2048, 0.3, 1024, 4"
   ]
  },
  {
   "cell_type": "code",
   "execution_count": 32,
   "metadata": {},
   "outputs": [
    {
     "name": "stdout",
     "output_type": "stream",
     "text": [
      "Model: \"sequential_3\"\n",
      "_________________________________________________________________\n",
      "Layer (type)                 Output Shape              Param #   \n",
      "=================================================================\n",
      "dense_features (DenseFeature multiple                  0         \n",
      "_________________________________________________________________\n",
      "dense_9 (Dense)              multiple                  34816     \n",
      "_________________________________________________________________\n",
      "dropout_3 (Dropout)          multiple                  0         \n",
      "_________________________________________________________________\n",
      "dense_10 (Dense)             multiple                  2098176   \n",
      "_________________________________________________________________\n",
      "dense_11 (Dense)             multiple                  4100      \n",
      "=================================================================\n",
      "Total params: 2,137,092\n",
      "Trainable params: 2,137,092\n",
      "Non-trainable params: 0\n",
      "_________________________________________________________________\n"
     ]
    }
   ],
   "source": [
    "model.summary()"
   ]
  },
  {
   "cell_type": "code",
   "execution_count": 33,
   "metadata": {},
   "outputs": [],
   "source": [
    "model.save('25epoch2048point31024.h5')"
   ]
  },
  {
   "cell_type": "code",
   "execution_count": null,
   "metadata": {},
   "outputs": [],
   "source": []
  }
 ],
 "metadata": {
  "kernelspec": {
   "display_name": "Python 3",
   "language": "python",
   "name": "python3"
  },
  "language_info": {
   "codemirror_mode": {
    "name": "ipython",
    "version": 3
   },
   "file_extension": ".py",
   "mimetype": "text/x-python",
   "name": "python",
   "nbconvert_exporter": "python",
   "pygments_lexer": "ipython3",
   "version": "3.7.4"
  }
 },
 "nbformat": 4,
 "nbformat_minor": 2
}
